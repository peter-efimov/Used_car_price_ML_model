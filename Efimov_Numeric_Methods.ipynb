{
 "cells": [
  {
   "cell_type": "markdown",
   "metadata": {},
   "source": [
    "# Модель для предсказания стоимости Б/У автомобиля.\n",
    "\n",
    "Требуется построить модель для определения стоимости. Доступны следующие данные: технические характеристики, комплектации и цены автомобилей.\n",
    "\n",
    "Критерии оптимальности модели:\n",
    "\n",
    "- качество предсказания;\n",
    "- скорость предсказания;\n",
    "- время обучения."
   ]
  },
  {
   "cell_type": "markdown",
   "metadata": {},
   "source": [
    "# 1. Подготовка данных\n",
    "\n",
    "## Загрузка библиотек"
   ]
  },
  {
   "cell_type": "code",
   "execution_count": 8,
   "metadata": {},
   "outputs": [
    {
     "name": "stdout",
     "output_type": "stream",
     "text": [
      "Collecting package metadata (current_repodata.json): done\n",
      "Solving environment: done\n",
      "\n",
      "\n",
      "==> WARNING: A newer version of conda exists. <==\n",
      "  current version: 4.8.2\n",
      "  latest version: 4.8.4\n",
      "\n",
      "Please update conda by running\n",
      "\n",
      "    $ conda update -n base -c defaults conda\n",
      "\n",
      "\n",
      "\n",
      "## Package Plan ##\n",
      "\n",
      "  environment location: /Users/peterefimov/opt/anaconda3\n",
      "\n",
      "  added / updated specs:\n",
      "    - lightgbm\n",
      "\n",
      "\n",
      "The following packages will be downloaded:\n",
      "\n",
      "    package                    |            build\n",
      "    ---------------------------|-----------------\n",
      "    conda-4.8.4                |   py37hc8dfbb8_2         3.0 MB  conda-forge\n",
      "    lightgbm-2.3.0             |   py37h0a44026_0         594 KB\n",
      "    python_abi-3.7             |          1_cp37m           4 KB  conda-forge\n",
      "    ------------------------------------------------------------\n",
      "                                           Total:         3.6 MB\n",
      "\n",
      "The following NEW packages will be INSTALLED:\n",
      "\n",
      "  lightgbm           pkgs/main/osx-64::lightgbm-2.3.0-py37h0a44026_0\n",
      "  python_abi         conda-forge/osx-64::python_abi-3.7-1_cp37m\n",
      "\n",
      "The following packages will be UPDATED:\n",
      "\n",
      "  conda                       pkgs/main::conda-4.8.2-py37_0 --> conda-forge::conda-4.8.4-py37hc8dfbb8_2\n",
      "\n",
      "\n",
      "\n",
      "Downloading and Extracting Packages\n",
      "lightgbm-2.3.0       | 594 KB    | ##################################### | 100% \n",
      "conda-4.8.4          | 3.0 MB    | ##################################### | 100% \n",
      "python_abi-3.7       | 4 KB      | ##################################### | 100% \n",
      "Preparing transaction: done\n",
      "Verifying transaction: done\n",
      "Executing transaction: done\n",
      "\n",
      "Note: you may need to restart the kernel to use updated packages.\n"
     ]
    }
   ],
   "source": [
    "# Загружаем лайтгбм через инсталлятор конды\n",
    "conda install -c conda-forge lightgbm"
   ]
  },
  {
   "cell_type": "code",
   "execution_count": 10,
   "metadata": {},
   "outputs": [
    {
     "name": "stdout",
     "output_type": "stream",
     "text": [
      "Collecting package metadata (current_repodata.json): done\n",
      "Solving environment: done\n",
      "\n",
      "## Package Plan ##\n",
      "\n",
      "  environment location: /Users/peterefimov/opt/anaconda3\n",
      "\n",
      "  added / updated specs:\n",
      "    - py-xgboost\n",
      "\n",
      "\n",
      "The following packages will be downloaded:\n",
      "\n",
      "    package                    |            build\n",
      "    ---------------------------|-----------------\n",
      "    _py-xgboost-mutex-2.0      |            cpu_0           8 KB  anaconda\n",
      "    conda-4.8.4                |           py37_0         3.0 MB  anaconda\n",
      "    libxgboost-0.90            |       h0a44026_1         2.4 MB  anaconda\n",
      "    py-xgboost-0.90            |   py37h0a44026_1          77 KB  anaconda\n",
      "    ------------------------------------------------------------\n",
      "                                           Total:         5.5 MB\n",
      "\n",
      "The following NEW packages will be INSTALLED:\n",
      "\n",
      "  _py-xgboost-mutex  anaconda/osx-64::_py-xgboost-mutex-2.0-cpu_0\n",
      "  libxgboost         anaconda/osx-64::libxgboost-0.90-h0a44026_1\n",
      "  py-xgboost         anaconda/osx-64::py-xgboost-0.90-py37h0a44026_1\n",
      "\n",
      "The following packages will be SUPERSEDED by a higher-priority channel:\n",
      "\n",
      "  conda              conda-forge::conda-4.8.4-py37hc8dfbb8~ --> anaconda::conda-4.8.4-py37_0\n",
      "\n",
      "\n",
      "\n",
      "Downloading and Extracting Packages\n",
      "_py-xgboost-mutex-2. | 8 KB      | ##################################### | 100% \n",
      "libxgboost-0.90      | 2.4 MB    | ##################################### | 100% \n",
      "conda-4.8.4          | 3.0 MB    | ##################################### | 100% \n",
      "py-xgboost-0.90      | 77 KB     | ##################################### | 100% \n",
      "Preparing transaction: done\n",
      "Verifying transaction: done\n",
      "Executing transaction: done\n",
      "\n",
      "Note: you may need to restart the kernel to use updated packages.\n"
     ]
    }
   ],
   "source": [
    "# Загружаем иксгбуст через инсталлятор конды\n",
    "conda install -c anaconda py-xgboost"
   ]
  },
  {
   "cell_type": "code",
   "execution_count": 14,
   "metadata": {},
   "outputs": [
    {
     "name": "stdout",
     "output_type": "stream",
     "text": [
      "Collecting catboost\n",
      "  Downloading catboost-0.24.1-cp37-none-macosx_10_6_intel.macosx_10_9_intel.macosx_10_9_x86_64.macosx_10_10_intel.macosx_10_10_x86_64.whl (11.4 MB)\n",
      "\u001b[K     |████████████████████████████████| 11.4 MB 4.5 MB/s eta 0:00:01\n",
      "\u001b[?25hRequirement already satisfied: matplotlib in /Users/peterefimov/opt/anaconda3/lib/python3.7/site-packages (from catboost) (3.1.3)\n",
      "Requirement already satisfied: plotly in /Users/peterefimov/opt/anaconda3/lib/python3.7/site-packages (from catboost) (4.9.0)\n",
      "Requirement already satisfied: numpy>=1.16.0 in /Users/peterefimov/opt/anaconda3/lib/python3.7/site-packages (from catboost) (1.18.1)\n",
      "Collecting graphviz\n",
      "  Downloading graphviz-0.14.1-py2.py3-none-any.whl (18 kB)\n",
      "Requirement already satisfied: six in /Users/peterefimov/opt/anaconda3/lib/python3.7/site-packages (from catboost) (1.14.0)\n",
      "Requirement already satisfied: pandas>=0.24.0 in /Users/peterefimov/opt/anaconda3/lib/python3.7/site-packages (from catboost) (1.0.1)\n",
      "Requirement already satisfied: scipy in /Users/peterefimov/opt/anaconda3/lib/python3.7/site-packages (from catboost) (1.4.1)\n",
      "Requirement already satisfied: pyparsing!=2.0.4,!=2.1.2,!=2.1.6,>=2.0.1 in /Users/peterefimov/opt/anaconda3/lib/python3.7/site-packages (from matplotlib->catboost) (2.4.6)\n",
      "Requirement already satisfied: kiwisolver>=1.0.1 in /Users/peterefimov/opt/anaconda3/lib/python3.7/site-packages (from matplotlib->catboost) (1.1.0)\n",
      "Requirement already satisfied: python-dateutil>=2.1 in /Users/peterefimov/opt/anaconda3/lib/python3.7/site-packages (from matplotlib->catboost) (2.8.1)\n",
      "Requirement already satisfied: cycler>=0.10 in /Users/peterefimov/opt/anaconda3/lib/python3.7/site-packages (from matplotlib->catboost) (0.10.0)\n",
      "Requirement already satisfied: retrying>=1.3.3 in /Users/peterefimov/opt/anaconda3/lib/python3.7/site-packages (from plotly->catboost) (1.3.3)\n",
      "Requirement already satisfied: pytz>=2017.2 in /Users/peterefimov/opt/anaconda3/lib/python3.7/site-packages (from pandas>=0.24.0->catboost) (2019.3)\n",
      "Requirement already satisfied: setuptools in /Users/peterefimov/opt/anaconda3/lib/python3.7/site-packages (from kiwisolver>=1.0.1->matplotlib->catboost) (46.0.0.post20200309)\n",
      "Installing collected packages: graphviz, catboost\n",
      "Successfully installed catboost-0.24.1 graphviz-0.14.1\n",
      "Note: you may need to restart the kernel to use updated packages.\n"
     ]
    }
   ],
   "source": [
    "# Загружаем катбуст\n",
    "pip install catboost"
   ]
  },
  {
   "cell_type": "code",
   "execution_count": 15,
   "metadata": {},
   "outputs": [],
   "source": [
    "import pandas as pd\n",
    "import seaborn as sns\n",
    "import matplotlib.pyplot as plt\n",
    "import numpy as np\n",
    "\n",
    "import lightgbm as lgb\n",
    "import xgboost  as xgb\n",
    "\n",
    "from catboost import CatBoostRegressor, Pool, cv \n",
    "from sklearn.model_selection import train_test_split\n",
    "from sklearn.metrics import mean_squared_error"
   ]
  },
  {
   "cell_type": "markdown",
   "metadata": {},
   "source": [
    "## Предобработка данных"
   ]
  },
  {
   "cell_type": "code",
   "execution_count": 114,
   "metadata": {},
   "outputs": [],
   "source": [
    "data = pd.read_csv('autos.csv')\n",
    "# data = pd.read_csv('/datasets/autos.csv')"
   ]
  },
  {
   "cell_type": "markdown",
   "metadata": {},
   "source": [
    "Посмотрим информацию о данных."
   ]
  },
  {
   "cell_type": "code",
   "execution_count": 115,
   "metadata": {},
   "outputs": [],
   "source": [
    "def data_information_printer(data):\n",
    "    \"\"\"Функция принимает на вход датасет и выводит основную информацию о нём\"\"\"\n",
    "    display(data.head(10))\n",
    "    print('Информация о признаках')\n",
    "    display(data.info())\n",
    "    print('Описание числовых признаков')\n",
    "    display(data.describe())\n",
    "    print('Информация о пропусках')\n",
    "    display(data.isna().sum())\n",
    "    print('Информация о дубликатах')\n",
    "    display(data.duplicated().sum())"
   ]
  },
  {
   "cell_type": "code",
   "execution_count": 116,
   "metadata": {},
   "outputs": [
    {
     "data": {
      "text/html": [
       "<div>\n",
       "<style scoped>\n",
       "    .dataframe tbody tr th:only-of-type {\n",
       "        vertical-align: middle;\n",
       "    }\n",
       "\n",
       "    .dataframe tbody tr th {\n",
       "        vertical-align: top;\n",
       "    }\n",
       "\n",
       "    .dataframe thead th {\n",
       "        text-align: right;\n",
       "    }\n",
       "</style>\n",
       "<table border=\"1\" class=\"dataframe\">\n",
       "  <thead>\n",
       "    <tr style=\"text-align: right;\">\n",
       "      <th></th>\n",
       "      <th>DateCrawled</th>\n",
       "      <th>Price</th>\n",
       "      <th>VehicleType</th>\n",
       "      <th>RegistrationYear</th>\n",
       "      <th>Gearbox</th>\n",
       "      <th>Power</th>\n",
       "      <th>Model</th>\n",
       "      <th>Kilometer</th>\n",
       "      <th>RegistrationMonth</th>\n",
       "      <th>FuelType</th>\n",
       "      <th>Brand</th>\n",
       "      <th>NotRepaired</th>\n",
       "      <th>DateCreated</th>\n",
       "      <th>NumberOfPictures</th>\n",
       "      <th>PostalCode</th>\n",
       "      <th>LastSeen</th>\n",
       "    </tr>\n",
       "  </thead>\n",
       "  <tbody>\n",
       "    <tr>\n",
       "      <th>0</th>\n",
       "      <td>2016-03-24 11:52:17</td>\n",
       "      <td>480</td>\n",
       "      <td>NaN</td>\n",
       "      <td>1993</td>\n",
       "      <td>manual</td>\n",
       "      <td>0</td>\n",
       "      <td>golf</td>\n",
       "      <td>150000</td>\n",
       "      <td>0</td>\n",
       "      <td>petrol</td>\n",
       "      <td>volkswagen</td>\n",
       "      <td>NaN</td>\n",
       "      <td>2016-03-24 00:00:00</td>\n",
       "      <td>0</td>\n",
       "      <td>70435</td>\n",
       "      <td>2016-04-07 03:16:57</td>\n",
       "    </tr>\n",
       "    <tr>\n",
       "      <th>1</th>\n",
       "      <td>2016-03-24 10:58:45</td>\n",
       "      <td>18300</td>\n",
       "      <td>coupe</td>\n",
       "      <td>2011</td>\n",
       "      <td>manual</td>\n",
       "      <td>190</td>\n",
       "      <td>NaN</td>\n",
       "      <td>125000</td>\n",
       "      <td>5</td>\n",
       "      <td>gasoline</td>\n",
       "      <td>audi</td>\n",
       "      <td>yes</td>\n",
       "      <td>2016-03-24 00:00:00</td>\n",
       "      <td>0</td>\n",
       "      <td>66954</td>\n",
       "      <td>2016-04-07 01:46:50</td>\n",
       "    </tr>\n",
       "    <tr>\n",
       "      <th>2</th>\n",
       "      <td>2016-03-14 12:52:21</td>\n",
       "      <td>9800</td>\n",
       "      <td>suv</td>\n",
       "      <td>2004</td>\n",
       "      <td>auto</td>\n",
       "      <td>163</td>\n",
       "      <td>grand</td>\n",
       "      <td>125000</td>\n",
       "      <td>8</td>\n",
       "      <td>gasoline</td>\n",
       "      <td>jeep</td>\n",
       "      <td>NaN</td>\n",
       "      <td>2016-03-14 00:00:00</td>\n",
       "      <td>0</td>\n",
       "      <td>90480</td>\n",
       "      <td>2016-04-05 12:47:46</td>\n",
       "    </tr>\n",
       "    <tr>\n",
       "      <th>3</th>\n",
       "      <td>2016-03-17 16:54:04</td>\n",
       "      <td>1500</td>\n",
       "      <td>small</td>\n",
       "      <td>2001</td>\n",
       "      <td>manual</td>\n",
       "      <td>75</td>\n",
       "      <td>golf</td>\n",
       "      <td>150000</td>\n",
       "      <td>6</td>\n",
       "      <td>petrol</td>\n",
       "      <td>volkswagen</td>\n",
       "      <td>no</td>\n",
       "      <td>2016-03-17 00:00:00</td>\n",
       "      <td>0</td>\n",
       "      <td>91074</td>\n",
       "      <td>2016-03-17 17:40:17</td>\n",
       "    </tr>\n",
       "    <tr>\n",
       "      <th>4</th>\n",
       "      <td>2016-03-31 17:25:20</td>\n",
       "      <td>3600</td>\n",
       "      <td>small</td>\n",
       "      <td>2008</td>\n",
       "      <td>manual</td>\n",
       "      <td>69</td>\n",
       "      <td>fabia</td>\n",
       "      <td>90000</td>\n",
       "      <td>7</td>\n",
       "      <td>gasoline</td>\n",
       "      <td>skoda</td>\n",
       "      <td>no</td>\n",
       "      <td>2016-03-31 00:00:00</td>\n",
       "      <td>0</td>\n",
       "      <td>60437</td>\n",
       "      <td>2016-04-06 10:17:21</td>\n",
       "    </tr>\n",
       "    <tr>\n",
       "      <th>5</th>\n",
       "      <td>2016-04-04 17:36:23</td>\n",
       "      <td>650</td>\n",
       "      <td>sedan</td>\n",
       "      <td>1995</td>\n",
       "      <td>manual</td>\n",
       "      <td>102</td>\n",
       "      <td>3er</td>\n",
       "      <td>150000</td>\n",
       "      <td>10</td>\n",
       "      <td>petrol</td>\n",
       "      <td>bmw</td>\n",
       "      <td>yes</td>\n",
       "      <td>2016-04-04 00:00:00</td>\n",
       "      <td>0</td>\n",
       "      <td>33775</td>\n",
       "      <td>2016-04-06 19:17:07</td>\n",
       "    </tr>\n",
       "    <tr>\n",
       "      <th>6</th>\n",
       "      <td>2016-04-01 20:48:51</td>\n",
       "      <td>2200</td>\n",
       "      <td>convertible</td>\n",
       "      <td>2004</td>\n",
       "      <td>manual</td>\n",
       "      <td>109</td>\n",
       "      <td>2_reihe</td>\n",
       "      <td>150000</td>\n",
       "      <td>8</td>\n",
       "      <td>petrol</td>\n",
       "      <td>peugeot</td>\n",
       "      <td>no</td>\n",
       "      <td>2016-04-01 00:00:00</td>\n",
       "      <td>0</td>\n",
       "      <td>67112</td>\n",
       "      <td>2016-04-05 18:18:39</td>\n",
       "    </tr>\n",
       "    <tr>\n",
       "      <th>7</th>\n",
       "      <td>2016-03-21 18:54:38</td>\n",
       "      <td>0</td>\n",
       "      <td>sedan</td>\n",
       "      <td>1980</td>\n",
       "      <td>manual</td>\n",
       "      <td>50</td>\n",
       "      <td>other</td>\n",
       "      <td>40000</td>\n",
       "      <td>7</td>\n",
       "      <td>petrol</td>\n",
       "      <td>volkswagen</td>\n",
       "      <td>no</td>\n",
       "      <td>2016-03-21 00:00:00</td>\n",
       "      <td>0</td>\n",
       "      <td>19348</td>\n",
       "      <td>2016-03-25 16:47:58</td>\n",
       "    </tr>\n",
       "    <tr>\n",
       "      <th>8</th>\n",
       "      <td>2016-04-04 23:42:13</td>\n",
       "      <td>14500</td>\n",
       "      <td>bus</td>\n",
       "      <td>2014</td>\n",
       "      <td>manual</td>\n",
       "      <td>125</td>\n",
       "      <td>c_max</td>\n",
       "      <td>30000</td>\n",
       "      <td>8</td>\n",
       "      <td>petrol</td>\n",
       "      <td>ford</td>\n",
       "      <td>NaN</td>\n",
       "      <td>2016-04-04 00:00:00</td>\n",
       "      <td>0</td>\n",
       "      <td>94505</td>\n",
       "      <td>2016-04-04 23:42:13</td>\n",
       "    </tr>\n",
       "    <tr>\n",
       "      <th>9</th>\n",
       "      <td>2016-03-17 10:53:50</td>\n",
       "      <td>999</td>\n",
       "      <td>small</td>\n",
       "      <td>1998</td>\n",
       "      <td>manual</td>\n",
       "      <td>101</td>\n",
       "      <td>golf</td>\n",
       "      <td>150000</td>\n",
       "      <td>0</td>\n",
       "      <td>NaN</td>\n",
       "      <td>volkswagen</td>\n",
       "      <td>NaN</td>\n",
       "      <td>2016-03-17 00:00:00</td>\n",
       "      <td>0</td>\n",
       "      <td>27472</td>\n",
       "      <td>2016-03-31 17:17:06</td>\n",
       "    </tr>\n",
       "  </tbody>\n",
       "</table>\n",
       "</div>"
      ],
      "text/plain": [
       "           DateCrawled  Price  VehicleType  RegistrationYear Gearbox  Power  \\\n",
       "0  2016-03-24 11:52:17    480          NaN              1993  manual      0   \n",
       "1  2016-03-24 10:58:45  18300        coupe              2011  manual    190   \n",
       "2  2016-03-14 12:52:21   9800          suv              2004    auto    163   \n",
       "3  2016-03-17 16:54:04   1500        small              2001  manual     75   \n",
       "4  2016-03-31 17:25:20   3600        small              2008  manual     69   \n",
       "5  2016-04-04 17:36:23    650        sedan              1995  manual    102   \n",
       "6  2016-04-01 20:48:51   2200  convertible              2004  manual    109   \n",
       "7  2016-03-21 18:54:38      0        sedan              1980  manual     50   \n",
       "8  2016-04-04 23:42:13  14500          bus              2014  manual    125   \n",
       "9  2016-03-17 10:53:50    999        small              1998  manual    101   \n",
       "\n",
       "     Model  Kilometer  RegistrationMonth  FuelType       Brand NotRepaired  \\\n",
       "0     golf     150000                  0    petrol  volkswagen         NaN   \n",
       "1      NaN     125000                  5  gasoline        audi         yes   \n",
       "2    grand     125000                  8  gasoline        jeep         NaN   \n",
       "3     golf     150000                  6    petrol  volkswagen          no   \n",
       "4    fabia      90000                  7  gasoline       skoda          no   \n",
       "5      3er     150000                 10    petrol         bmw         yes   \n",
       "6  2_reihe     150000                  8    petrol     peugeot          no   \n",
       "7    other      40000                  7    petrol  volkswagen          no   \n",
       "8    c_max      30000                  8    petrol        ford         NaN   \n",
       "9     golf     150000                  0       NaN  volkswagen         NaN   \n",
       "\n",
       "           DateCreated  NumberOfPictures  PostalCode             LastSeen  \n",
       "0  2016-03-24 00:00:00                 0       70435  2016-04-07 03:16:57  \n",
       "1  2016-03-24 00:00:00                 0       66954  2016-04-07 01:46:50  \n",
       "2  2016-03-14 00:00:00                 0       90480  2016-04-05 12:47:46  \n",
       "3  2016-03-17 00:00:00                 0       91074  2016-03-17 17:40:17  \n",
       "4  2016-03-31 00:00:00                 0       60437  2016-04-06 10:17:21  \n",
       "5  2016-04-04 00:00:00                 0       33775  2016-04-06 19:17:07  \n",
       "6  2016-04-01 00:00:00                 0       67112  2016-04-05 18:18:39  \n",
       "7  2016-03-21 00:00:00                 0       19348  2016-03-25 16:47:58  \n",
       "8  2016-04-04 00:00:00                 0       94505  2016-04-04 23:42:13  \n",
       "9  2016-03-17 00:00:00                 0       27472  2016-03-31 17:17:06  "
      ]
     },
     "metadata": {},
     "output_type": "display_data"
    },
    {
     "name": "stdout",
     "output_type": "stream",
     "text": [
      "Информация о признаках\n",
      "<class 'pandas.core.frame.DataFrame'>\n",
      "RangeIndex: 354369 entries, 0 to 354368\n",
      "Data columns (total 16 columns):\n",
      " #   Column             Non-Null Count   Dtype \n",
      "---  ------             --------------   ----- \n",
      " 0   DateCrawled        354369 non-null  object\n",
      " 1   Price              354369 non-null  int64 \n",
      " 2   VehicleType        316879 non-null  object\n",
      " 3   RegistrationYear   354369 non-null  int64 \n",
      " 4   Gearbox            334536 non-null  object\n",
      " 5   Power              354369 non-null  int64 \n",
      " 6   Model              334664 non-null  object\n",
      " 7   Kilometer          354369 non-null  int64 \n",
      " 8   RegistrationMonth  354369 non-null  int64 \n",
      " 9   FuelType           321474 non-null  object\n",
      " 10  Brand              354369 non-null  object\n",
      " 11  NotRepaired        283215 non-null  object\n",
      " 12  DateCreated        354369 non-null  object\n",
      " 13  NumberOfPictures   354369 non-null  int64 \n",
      " 14  PostalCode         354369 non-null  int64 \n",
      " 15  LastSeen           354369 non-null  object\n",
      "dtypes: int64(7), object(9)\n",
      "memory usage: 43.3+ MB\n"
     ]
    },
    {
     "data": {
      "text/plain": [
       "None"
      ]
     },
     "metadata": {},
     "output_type": "display_data"
    },
    {
     "name": "stdout",
     "output_type": "stream",
     "text": [
      "Описание числовых признаков\n"
     ]
    },
    {
     "data": {
      "text/html": [
       "<div>\n",
       "<style scoped>\n",
       "    .dataframe tbody tr th:only-of-type {\n",
       "        vertical-align: middle;\n",
       "    }\n",
       "\n",
       "    .dataframe tbody tr th {\n",
       "        vertical-align: top;\n",
       "    }\n",
       "\n",
       "    .dataframe thead th {\n",
       "        text-align: right;\n",
       "    }\n",
       "</style>\n",
       "<table border=\"1\" class=\"dataframe\">\n",
       "  <thead>\n",
       "    <tr style=\"text-align: right;\">\n",
       "      <th></th>\n",
       "      <th>Price</th>\n",
       "      <th>RegistrationYear</th>\n",
       "      <th>Power</th>\n",
       "      <th>Kilometer</th>\n",
       "      <th>RegistrationMonth</th>\n",
       "      <th>NumberOfPictures</th>\n",
       "      <th>PostalCode</th>\n",
       "    </tr>\n",
       "  </thead>\n",
       "  <tbody>\n",
       "    <tr>\n",
       "      <th>count</th>\n",
       "      <td>354369.000000</td>\n",
       "      <td>354369.000000</td>\n",
       "      <td>354369.000000</td>\n",
       "      <td>354369.000000</td>\n",
       "      <td>354369.000000</td>\n",
       "      <td>354369.0</td>\n",
       "      <td>354369.000000</td>\n",
       "    </tr>\n",
       "    <tr>\n",
       "      <th>mean</th>\n",
       "      <td>4416.656776</td>\n",
       "      <td>2004.234448</td>\n",
       "      <td>110.094337</td>\n",
       "      <td>128211.172535</td>\n",
       "      <td>5.714645</td>\n",
       "      <td>0.0</td>\n",
       "      <td>50508.689087</td>\n",
       "    </tr>\n",
       "    <tr>\n",
       "      <th>std</th>\n",
       "      <td>4514.158514</td>\n",
       "      <td>90.227958</td>\n",
       "      <td>189.850405</td>\n",
       "      <td>37905.341530</td>\n",
       "      <td>3.726421</td>\n",
       "      <td>0.0</td>\n",
       "      <td>25783.096248</td>\n",
       "    </tr>\n",
       "    <tr>\n",
       "      <th>min</th>\n",
       "      <td>0.000000</td>\n",
       "      <td>1000.000000</td>\n",
       "      <td>0.000000</td>\n",
       "      <td>5000.000000</td>\n",
       "      <td>0.000000</td>\n",
       "      <td>0.0</td>\n",
       "      <td>1067.000000</td>\n",
       "    </tr>\n",
       "    <tr>\n",
       "      <th>25%</th>\n",
       "      <td>1050.000000</td>\n",
       "      <td>1999.000000</td>\n",
       "      <td>69.000000</td>\n",
       "      <td>125000.000000</td>\n",
       "      <td>3.000000</td>\n",
       "      <td>0.0</td>\n",
       "      <td>30165.000000</td>\n",
       "    </tr>\n",
       "    <tr>\n",
       "      <th>50%</th>\n",
       "      <td>2700.000000</td>\n",
       "      <td>2003.000000</td>\n",
       "      <td>105.000000</td>\n",
       "      <td>150000.000000</td>\n",
       "      <td>6.000000</td>\n",
       "      <td>0.0</td>\n",
       "      <td>49413.000000</td>\n",
       "    </tr>\n",
       "    <tr>\n",
       "      <th>75%</th>\n",
       "      <td>6400.000000</td>\n",
       "      <td>2008.000000</td>\n",
       "      <td>143.000000</td>\n",
       "      <td>150000.000000</td>\n",
       "      <td>9.000000</td>\n",
       "      <td>0.0</td>\n",
       "      <td>71083.000000</td>\n",
       "    </tr>\n",
       "    <tr>\n",
       "      <th>max</th>\n",
       "      <td>20000.000000</td>\n",
       "      <td>9999.000000</td>\n",
       "      <td>20000.000000</td>\n",
       "      <td>150000.000000</td>\n",
       "      <td>12.000000</td>\n",
       "      <td>0.0</td>\n",
       "      <td>99998.000000</td>\n",
       "    </tr>\n",
       "  </tbody>\n",
       "</table>\n",
       "</div>"
      ],
      "text/plain": [
       "               Price  RegistrationYear          Power      Kilometer  \\\n",
       "count  354369.000000     354369.000000  354369.000000  354369.000000   \n",
       "mean     4416.656776       2004.234448     110.094337  128211.172535   \n",
       "std      4514.158514         90.227958     189.850405   37905.341530   \n",
       "min         0.000000       1000.000000       0.000000    5000.000000   \n",
       "25%      1050.000000       1999.000000      69.000000  125000.000000   \n",
       "50%      2700.000000       2003.000000     105.000000  150000.000000   \n",
       "75%      6400.000000       2008.000000     143.000000  150000.000000   \n",
       "max     20000.000000       9999.000000   20000.000000  150000.000000   \n",
       "\n",
       "       RegistrationMonth  NumberOfPictures     PostalCode  \n",
       "count      354369.000000          354369.0  354369.000000  \n",
       "mean            5.714645               0.0   50508.689087  \n",
       "std             3.726421               0.0   25783.096248  \n",
       "min             0.000000               0.0    1067.000000  \n",
       "25%             3.000000               0.0   30165.000000  \n",
       "50%             6.000000               0.0   49413.000000  \n",
       "75%             9.000000               0.0   71083.000000  \n",
       "max            12.000000               0.0   99998.000000  "
      ]
     },
     "metadata": {},
     "output_type": "display_data"
    },
    {
     "name": "stdout",
     "output_type": "stream",
     "text": [
      "Информация о пропусках\n"
     ]
    },
    {
     "data": {
      "text/plain": [
       "DateCrawled              0\n",
       "Price                    0\n",
       "VehicleType          37490\n",
       "RegistrationYear         0\n",
       "Gearbox              19833\n",
       "Power                    0\n",
       "Model                19705\n",
       "Kilometer                0\n",
       "RegistrationMonth        0\n",
       "FuelType             32895\n",
       "Brand                    0\n",
       "NotRepaired          71154\n",
       "DateCreated              0\n",
       "NumberOfPictures         0\n",
       "PostalCode               0\n",
       "LastSeen                 0\n",
       "dtype: int64"
      ]
     },
     "metadata": {},
     "output_type": "display_data"
    },
    {
     "name": "stdout",
     "output_type": "stream",
     "text": [
      "Информация о дубликатах\n"
     ]
    },
    {
     "data": {
      "text/plain": [
       "4"
      ]
     },
     "metadata": {},
     "output_type": "display_data"
    }
   ],
   "source": [
    "data_information_printer(data)"
   ]
  },
  {
   "cell_type": "markdown",
   "metadata": {},
   "source": [
    "Всего доступны данные о 354369 автомобилях. Данные либо целочисленные, либо категориальный в формате object. Смена типов не требуется. Также обнаружены 5 дубликатов.\n",
    "\n",
    "Обнаружены пропуски в следующих признаках:\n",
    "- Тип автомобиля\n",
    "- Тип КПП\n",
    "- Модель\n",
    "- Тип топлива\n",
    "- Был ли автомобиль в ремонте\n",
    "\n",
    "Рассмотрим, какие ещё значения есть в признаках, кроме пропущенных:"
   ]
  },
  {
   "cell_type": "code",
   "execution_count": 117,
   "metadata": {},
   "outputs": [
    {
     "name": "stdout",
     "output_type": "stream",
     "text": [
      "sedan          91457\n",
      "small          79831\n",
      "wagon          65166\n",
      "bus            28775\n",
      "convertible    20203\n",
      "coupe          16163\n",
      "suv            11996\n",
      "other           3288\n",
      "Name: VehicleType, dtype: int64\n",
      "\n",
      "manual    268251\n",
      "auto       66285\n",
      "Name: Gearbox, dtype: int64\n",
      "\n",
      "petrol      216352\n",
      "gasoline     98720\n",
      "lpg           5310\n",
      "cng            565\n",
      "hybrid         233\n",
      "other          204\n",
      "electric        90\n",
      "Name: FuelType, dtype: int64\n",
      "\n",
      "no     247161\n",
      "yes     36054\n",
      "Name: NotRepaired, dtype: int64\n",
      "\n",
      "golf                  29232\n",
      "other                 24421\n",
      "3er                   19761\n",
      "polo                  13066\n",
      "corsa                 12570\n",
      "                      ...  \n",
      "serie_2                   8\n",
      "rangerover                4\n",
      "serie_3                   4\n",
      "range_rover_evoque        2\n",
      "serie_1                   2\n",
      "Name: Model, Length: 250, dtype: int64\n",
      "\n"
     ]
    }
   ],
   "source": [
    "lost_features = ['VehicleType', 'Gearbox', 'FuelType', 'NotRepaired', 'Model']\n",
    "\n",
    "for feature in lost_features:\n",
    "    print(data[feature].value_counts())\n",
    "    print()"
   ]
  },
  {
   "cell_type": "markdown",
   "metadata": {},
   "source": [
    "Рассмотрим информацию о ремонте: в большинстве случаев указано, что автомобиль не ремонтировался. Считаю, что в данном случае пропуск можно считать фактическим отсутствием ремонта автомобиля, так что можем заменить значение на 'no'.\n",
    "\n",
    "В остальных случаях в каждом признаке есть значение other, которые фактически также является пропуском. Считаю наиболее грамотным и наименее затратным решением заменить пропущенные значение на other, таким образом мы сохраним данные и не изменим их начальное распределение."
   ]
  },
  {
   "cell_type": "code",
   "execution_count": 118,
   "metadata": {
    "scrolled": true
   },
   "outputs": [
    {
     "data": {
      "text/plain": [
       "DateCrawled          0\n",
       "Price                0\n",
       "VehicleType          0\n",
       "RegistrationYear     0\n",
       "Gearbox              0\n",
       "Power                0\n",
       "Model                0\n",
       "Kilometer            0\n",
       "RegistrationMonth    0\n",
       "FuelType             0\n",
       "Brand                0\n",
       "NotRepaired          0\n",
       "DateCreated          0\n",
       "NumberOfPictures     0\n",
       "PostalCode           0\n",
       "LastSeen             0\n",
       "dtype: int64"
      ]
     },
     "execution_count": 118,
     "metadata": {},
     "output_type": "execute_result"
    }
   ],
   "source": [
    "data['NotRepaired'].fillna('no', inplace = True)\n",
    "\n",
    "data['VehicleType'].fillna('other', inplace = True)\n",
    "data['Gearbox'].fillna('other', inplace = True)\n",
    "data['FuelType'].fillna('other', inplace = True)\n",
    "data['Model'].fillna('other', inplace = True)\n",
    "\n",
    "# Проверим результат\n",
    "data.isna().sum()"
   ]
  },
  {
   "cell_type": "markdown",
   "metadata": {},
   "source": [
    "Пропуски заменены, причём ни одна строка не потеряна. Теперь удалим дубликаты."
   ]
  },
  {
   "cell_type": "code",
   "execution_count": 119,
   "metadata": {
    "scrolled": true
   },
   "outputs": [
    {
     "data": {
      "text/plain": [
       "0"
      ]
     },
     "metadata": {},
     "output_type": "display_data"
    }
   ],
   "source": [
    "data.drop_duplicates(inplace = True)\n",
    "display(data.duplicated().sum())"
   ]
  },
  {
   "cell_type": "markdown",
   "metadata": {},
   "source": [
    "## Обработка признаков\n",
    "\n",
    "В данном проекте одна из целей - получить быструю модель. Для этого требуется ограничить использование менее важных признаков с точки зрения обучения модели. Посмотрим, все ли признаки имеют разные значения:"
   ]
  },
  {
   "cell_type": "code",
   "execution_count": 120,
   "metadata": {},
   "outputs": [
    {
     "data": {
      "text/plain": [
       "DateCrawled          271174\n",
       "Price                  3731\n",
       "VehicleType               8\n",
       "RegistrationYear        151\n",
       "Gearbox                   3\n",
       "Power                   712\n",
       "Model                   250\n",
       "Kilometer                13\n",
       "RegistrationMonth        13\n",
       "FuelType                  7\n",
       "Brand                    40\n",
       "NotRepaired               2\n",
       "DateCreated             109\n",
       "NumberOfPictures          1\n",
       "PostalCode             8143\n",
       "LastSeen             179150\n",
       "dtype: int64"
      ]
     },
     "execution_count": 120,
     "metadata": {},
     "output_type": "execute_result"
    }
   ],
   "source": [
    "data.nunique()"
   ]
  },
  {
   "cell_type": "markdown",
   "metadata": {},
   "source": [
    "Обнаружили, что признак количества фотографий принимает только одно значение, то есть бесполезен с точки зрения обучения. Такое же предположение можно сделать относительно признаков даты загрузки, скачивания объявления, почтовый индекс. Также считаю, что можно удалить признак месяца регистрации автомобиля. Считаю, что с точки зрения определения стоимости автомобиля в зависимости от его возраста год - более показательный период, чем месяц.\n",
    "\n",
    "Удалим избыточные признаки:"
   ]
  },
  {
   "cell_type": "code",
   "execution_count": 121,
   "metadata": {},
   "outputs": [
    {
     "data": {
      "text/html": [
       "<div>\n",
       "<style scoped>\n",
       "    .dataframe tbody tr th:only-of-type {\n",
       "        vertical-align: middle;\n",
       "    }\n",
       "\n",
       "    .dataframe tbody tr th {\n",
       "        vertical-align: top;\n",
       "    }\n",
       "\n",
       "    .dataframe thead th {\n",
       "        text-align: right;\n",
       "    }\n",
       "</style>\n",
       "<table border=\"1\" class=\"dataframe\">\n",
       "  <thead>\n",
       "    <tr style=\"text-align: right;\">\n",
       "      <th></th>\n",
       "      <th>Price</th>\n",
       "      <th>VehicleType</th>\n",
       "      <th>RegistrationYear</th>\n",
       "      <th>Gearbox</th>\n",
       "      <th>Power</th>\n",
       "      <th>Model</th>\n",
       "      <th>Kilometer</th>\n",
       "      <th>FuelType</th>\n",
       "      <th>Brand</th>\n",
       "      <th>NotRepaired</th>\n",
       "    </tr>\n",
       "  </thead>\n",
       "  <tbody>\n",
       "    <tr>\n",
       "      <th>0</th>\n",
       "      <td>480</td>\n",
       "      <td>other</td>\n",
       "      <td>1993</td>\n",
       "      <td>manual</td>\n",
       "      <td>0</td>\n",
       "      <td>golf</td>\n",
       "      <td>150000</td>\n",
       "      <td>petrol</td>\n",
       "      <td>volkswagen</td>\n",
       "      <td>no</td>\n",
       "    </tr>\n",
       "    <tr>\n",
       "      <th>1</th>\n",
       "      <td>18300</td>\n",
       "      <td>coupe</td>\n",
       "      <td>2011</td>\n",
       "      <td>manual</td>\n",
       "      <td>190</td>\n",
       "      <td>other</td>\n",
       "      <td>125000</td>\n",
       "      <td>gasoline</td>\n",
       "      <td>audi</td>\n",
       "      <td>yes</td>\n",
       "    </tr>\n",
       "    <tr>\n",
       "      <th>2</th>\n",
       "      <td>9800</td>\n",
       "      <td>suv</td>\n",
       "      <td>2004</td>\n",
       "      <td>auto</td>\n",
       "      <td>163</td>\n",
       "      <td>grand</td>\n",
       "      <td>125000</td>\n",
       "      <td>gasoline</td>\n",
       "      <td>jeep</td>\n",
       "      <td>no</td>\n",
       "    </tr>\n",
       "    <tr>\n",
       "      <th>3</th>\n",
       "      <td>1500</td>\n",
       "      <td>small</td>\n",
       "      <td>2001</td>\n",
       "      <td>manual</td>\n",
       "      <td>75</td>\n",
       "      <td>golf</td>\n",
       "      <td>150000</td>\n",
       "      <td>petrol</td>\n",
       "      <td>volkswagen</td>\n",
       "      <td>no</td>\n",
       "    </tr>\n",
       "    <tr>\n",
       "      <th>4</th>\n",
       "      <td>3600</td>\n",
       "      <td>small</td>\n",
       "      <td>2008</td>\n",
       "      <td>manual</td>\n",
       "      <td>69</td>\n",
       "      <td>fabia</td>\n",
       "      <td>90000</td>\n",
       "      <td>gasoline</td>\n",
       "      <td>skoda</td>\n",
       "      <td>no</td>\n",
       "    </tr>\n",
       "  </tbody>\n",
       "</table>\n",
       "</div>"
      ],
      "text/plain": [
       "   Price VehicleType  RegistrationYear Gearbox  Power  Model  Kilometer  \\\n",
       "0    480       other              1993  manual      0   golf     150000   \n",
       "1  18300       coupe              2011  manual    190  other     125000   \n",
       "2   9800         suv              2004    auto    163  grand     125000   \n",
       "3   1500       small              2001  manual     75   golf     150000   \n",
       "4   3600       small              2008  manual     69  fabia      90000   \n",
       "\n",
       "   FuelType       Brand NotRepaired  \n",
       "0    petrol  volkswagen          no  \n",
       "1  gasoline        audi         yes  \n",
       "2  gasoline        jeep          no  \n",
       "3    petrol  volkswagen          no  \n",
       "4  gasoline       skoda          no  "
      ]
     },
     "execution_count": 121,
     "metadata": {},
     "output_type": "execute_result"
    }
   ],
   "source": [
    "data = data.drop(['DateCrawled','RegistrationMonth', 'DateCreated', 'NumberOfPictures', 'LastSeen', 'PostalCode'],\n",
    "                 axis = 1)\n",
    "data.head()"
   ]
  },
  {
   "cell_type": "markdown",
   "metadata": {},
   "source": [
    "Ранее было выявлено, что есть нулевые значения цены и мощности автомобиля, а также могут быть выбросы в годе выпуска автомобиля. Посмотрим на их распределения."
   ]
  },
  {
   "cell_type": "code",
   "execution_count": 122,
   "metadata": {},
   "outputs": [],
   "source": [
    "def distribution_visualization(data, features):\n",
    "    \"\"\"Рисует гистограммы и боксплоты для признаков. На вход подаётся датасет и лист признаков\"\"\"\n",
    "    for feature in features_distribution:\n",
    "        data.boxplot(column = feature, vert=False, figsize=(10,2))\n",
    "        plt.show()\n",
    "        data[feature].hist(figsize=(10,6), bins = 50)  \n",
    "        plt.show()"
   ]
  },
  {
   "cell_type": "code",
   "execution_count": 123,
   "metadata": {},
   "outputs": [
    {
     "data": {
      "image/png": "[encoded data removed]",
      "text/plain": [
       "<Figure size 720x144 with 1 Axes>"
      ]
     },
     "metadata": {
      "needs_background": "light"
     },
     "output_type": "display_data"
    },
    {
     "data": {
      "image/png": "[encoded data removed]",
      "text/plain": [
       "<Figure size 720x432 with 1 Axes>"
      ]
     },
     "metadata": {
      "needs_background": "light"
     },
     "output_type": "display_data"
    },
    {
     "data": {
      "image/png": "[encoded data removed]",
      "text/plain": [
       "<Figure size 720x144 with 1 Axes>"
      ]
     },
     "metadata": {
      "needs_background": "light"
     },
     "output_type": "display_data"
    },
    {
     "data": {
      "image/png": "[encoded data removed]",
      "text/plain": [
       "<Figure size 720x432 with 1 Axes>"
      ]
     },
     "metadata": {
      "needs_background": "light"
     },
     "output_type": "display_data"
    },
    {
     "data": {
      "image/png": "[encoded data removed]",
      "text/plain": [
       "<Figure size 720x144 with 1 Axes>"
      ]
     },
     "metadata": {
      "needs_background": "light"
     },
     "output_type": "display_data"
    },
    {
     "data": {
      "image/png": "[encoded data removed]",
      "text/plain": [
       "<Figure size 720x432 with 1 Axes>"
      ]
     },
     "metadata": {
      "needs_background": "light"
     },
     "output_type": "display_data"
    }
   ],
   "source": [
    "features_distribution = ['Price', 'Power', 'RegistrationYear']\n",
    "\n",
    "distribution_visualization(data, features_distribution)"
   ]
  },
  {
   "cell_type": "markdown",
   "metadata": {},
   "source": [
    "Наблюдаем явные выбросы. Зададим ограничения и удалим выбросы:\n",
    "1. Цена не должна быть нулевой\n",
    "2. Мощность не должна быть нулевой\n",
    "3. Год регистрации установим в диапазоне от 1900 до 2017 (случаи автомобилей старше 1900 эксклюзивны, а дата регистрации позже выгрузки объявлений невозможна).\n",
    "4. Ограничим мощность 1000 л.с., как адекватной для гражданских автомобилей. Мощность выше соответствуем эксклюзивным случаям, которые вряд ли следует рассматривать в рамках обучения массовых моделей. К тому же скорее всего такая мощность указана ошибочно."
   ]
  },
  {
   "cell_type": "code",
   "execution_count": 124,
   "metadata": {},
   "outputs": [],
   "source": [
    "data_processed = data.query('Price != 0 and 0 < Power < 1000 and 1900 < RegistrationYear < 2017')"
   ]
  },
  {
   "cell_type": "code",
   "execution_count": 125,
   "metadata": {},
   "outputs": [
    {
     "data": {
      "image/png": "[encoded data removed]",
      "text/plain": [
       "<Figure size 720x144 with 1 Axes>"
      ]
     },
     "metadata": {
      "needs_background": "light"
     },
     "output_type": "display_data"
    },
    {
     "data": {
      "image/png": "[encoded data removed]",
      "text/plain": [
       "<Figure size 720x432 with 1 Axes>"
      ]
     },
     "metadata": {
      "needs_background": "light"
     },
     "output_type": "display_data"
    },
    {
     "data": {
      "image/png": "[encoded data removed]",
      "text/plain": [
       "<Figure size 720x144 with 1 Axes>"
      ]
     },
     "metadata": {
      "needs_background": "light"
     },
     "output_type": "display_data"
    },
    {
     "data": {
      "image/png": "[encoded data removed]",
      "text/plain": [
       "<Figure size 720x432 with 1 Axes>"
      ]
     },
     "metadata": {
      "needs_background": "light"
     },
     "output_type": "display_data"
    },
    {
     "data": {
      "image/png": "[encoded data removed]",
      "text/plain": [
       "<Figure size 720x144 with 1 Axes>"
      ]
     },
     "metadata": {
      "needs_background": "light"
     },
     "output_type": "display_data"
    },
    {
     "data": {
      "image/png": "[encoded data removed]",
      "text/plain": [
       "<Figure size 720x432 with 1 Axes>"
      ]
     },
     "metadata": {
      "needs_background": "light"
     },
     "output_type": "display_data"
    }
   ],
   "source": [
    "# Оценим распределения ещё раз\n",
    "\n",
    "distribution_visualization(data_processed, features_distribution)"
   ]
  },
  {
   "cell_type": "markdown",
   "metadata": {},
   "source": [
    "Теперь получили более адекватные распределения."
   ]
  },
  {
   "cell_type": "code",
   "execution_count": 68,
   "metadata": {},
   "outputs": [
    {
     "name": "stdout",
     "output_type": "stream",
     "text": [
      "0.1629285141831563\n"
     ]
    }
   ],
   "source": [
    "# Оценим потерю данных\n",
    "print((len(data) - len(data_processed)) / len(data))"
   ]
  },
  {
   "cell_type": "markdown",
   "metadata": {},
   "source": [
    "Явные выбросы в данных удалены, потеряно около 17% данных. Считаю это обоснованным, а оставшихся данных достаточно для изучения моделей."
   ]
  },
  {
   "cell_type": "markdown",
   "metadata": {},
   "source": [
    "# 2. Обучение моделей\n",
    "\n",
    "В данном пункте изучим 3 алгоритма моделей - LightGBM, Catboost, XGBoost, обучив их на кросс-валидации. Таким образом, мы качественно оценим скорость работы моделей и их ошибку RMSE. Далее отберём наиболее подходящие гиперпараметры для каждого алгоритма и пересчитаем RMSE, а также оценим время их обучения и предсказания - сделаем вывод о наиболее подходящей модели.\n",
    "\n",
    "## Подготовка данных к обучению"
   ]
  },
  {
   "cell_type": "markdown",
   "metadata": {},
   "source": [
    "Сперва разделим данные на определяющие признаки и целевой признак:"
   ]
  },
  {
   "cell_type": "code",
   "execution_count": 145,
   "metadata": {},
   "outputs": [
    {
     "data": {
      "text/plain": [
       "((296628, 9), (296628,))"
      ]
     },
     "execution_count": 145,
     "metadata": {},
     "output_type": "execute_result"
    }
   ],
   "source": [
    "features = data_processed.drop(['Price'], axis = 1)\n",
    "target = data_processed['Price']\n",
    "\n",
    "features.shape, target.shape"
   ]
  },
  {
   "cell_type": "markdown",
   "metadata": {},
   "source": [
    "Теперь напишем функцию для определения категориальных признаков:"
   ]
  },
  {
   "cell_type": "code",
   "execution_count": 146,
   "metadata": {
    "scrolled": true
   },
   "outputs": [],
   "source": [
    "def categorial_features_finder(data):\n",
    "    \"\"\"Функция принимает на вход датафрейм и возвращает список названий столбцов с типом object\"\"\"\n",
    "    cat_col_list = []\n",
    "    for column in data.columns:\n",
    "        if data[column].dtype == 'object':\n",
    "            cat_col_list.append(column)\n",
    "    return cat_col_list"
   ]
  },
  {
   "cell_type": "code",
   "execution_count": 147,
   "metadata": {
    "scrolled": true
   },
   "outputs": [
    {
     "data": {
      "text/plain": [
       "['VehicleType', 'Gearbox', 'Model', 'FuelType', 'Brand', 'NotRepaired']"
      ]
     },
     "execution_count": 147,
     "metadata": {},
     "output_type": "execute_result"
    }
   ],
   "source": [
    "categorial_features = categorial_features_finder(features)\n",
    "categorial_features"
   ]
  },
  {
   "cell_type": "markdown",
   "metadata": {},
   "source": [
    "## Модель LightGBM\n",
    "\n",
    "Изучим модель LightGBM"
   ]
  },
  {
   "cell_type": "code",
   "execution_count": 174,
   "metadata": {},
   "outputs": [],
   "source": [
    "# Скопируем датасет features отдельно для LGBM\n",
    "features_lgb = features.copy()"
   ]
  },
  {
   "cell_type": "code",
   "execution_count": 162,
   "metadata": {},
   "outputs": [],
   "source": [
    "# Напишем функцию для обучения модели\n",
    "\n",
    "def LightGBM(parameters, features, target, cv):\n",
    "    \"\"\"Функция обучает модель по алгоритму lightgbm, на вход принимает словарь параметров,\n",
    "    датафрейм features и target и количество folds для кросс-валидации.\n",
    "    Возвращает значение RMSE на кросс-валидации\"\"\"\n",
    "    \n",
    "    # Присваиваем категориальным признакам тип 'category'\n",
    "    categorial_columns = categorial_features_finder(features)\n",
    "    for column in categorial_columns:\n",
    "        features[column] = features[column].astype('category')\n",
    "    \n",
    "    # Делим датасет на обучающие и тестовые выборки\n",
    "    X_train, X_test, y_train, y_test = train_test_split(features, target, test_size = 0.2, random_state = 13)\n",
    "    \n",
    "    # Готовим датасет в формате LightGBM\n",
    "    d_train = lgb.Dataset(X_train, label = y_train)\n",
    "    \n",
    "    # Обучаем модель\n",
    "    cv_rmse = lgb.cv(parameters, d_train, nfold = cv, early_stopping_rounds = 1, show_stdv = False)\n",
    "    \n",
    "    return cv_rmse"
   ]
  },
  {
   "cell_type": "code",
   "execution_count": 168,
   "metadata": {},
   "outputs": [],
   "source": [
    "# Создадим первый словарь параметров для модели лгбм\n",
    "parameters_lgbm_1 = {\n",
    "    'application': 'regression',\n",
    "    'boosting': 'gbdt',\n",
    "    'num_leaves': 30,\n",
    "    'max_depth': 5,\n",
    "    'feature_fraction': 0.5,\n",
    "    'learning_rate': 0.25,\n",
    "    'metric': 'rmse',\n",
    "    'random_state': 13\n",
    "}"
   ]
  },
  {
   "cell_type": "code",
   "execution_count": 169,
   "metadata": {
    "scrolled": true
   },
   "outputs": [
    {
     "name": "stderr",
     "output_type": "stream",
     "text": [
      "/Users/peterefimov/opt/anaconda3/lib/python3.7/site-packages/sklearn/model_selection/_split.py:667: UserWarning: The least populated class in y has only 1 members, which is less than n_splits=4.\n",
      "  % (min_groups, self.n_splits)), UserWarning)\n"
     ]
    },
    {
     "name": "stdout",
     "output_type": "stream",
     "text": [
      "CPU times: user 10.5 s, sys: 138 ms, total: 10.6 s\n",
      "Wall time: 3.19 s\n"
     ]
    },
    {
     "data": {
      "text/plain": [
       "{'rmse-mean': [4127.457106142372,\n",
       "  3482.1271891657807,\n",
       "  2979.39441684544,\n",
       "  2833.9714913309117,\n",
       "  2549.822675987597,\n",
       "  2321.053212707665,\n",
       "  2177.9026812225907,\n",
       "  2078.7694337908943,\n",
       "  2037.1917382811635,\n",
       "  1982.3335089437842,\n",
       "  1937.1240532835702,\n",
       "  1923.0322053133148,\n",
       "  1905.385685671311,\n",
       "  1883.4804547939257,\n",
       "  1864.760308620711,\n",
       "  1838.6794980909165,\n",
       "  1830.5480353395067,\n",
       "  1803.4556725205255,\n",
       "  1800.2703196815003,\n",
       "  1782.215163448512,\n",
       "  1772.6119946670854,\n",
       "  1762.192005259131,\n",
       "  1757.3170556353748,\n",
       "  1749.8577464330515,\n",
       "  1739.1762171161586,\n",
       "  1735.877834534109,\n",
       "  1732.228115912054,\n",
       "  1729.5233098588892,\n",
       "  1722.9054991781602,\n",
       "  1717.2498223294153,\n",
       "  1712.83047876456,\n",
       "  1711.163721355152,\n",
       "  1708.4084483586998,\n",
       "  1706.8457865746036,\n",
       "  1701.710122182269,\n",
       "  1698.5047816865092,\n",
       "  1696.7207828486,\n",
       "  1695.0026290343199,\n",
       "  1693.9434346561843,\n",
       "  1692.9182625888366,\n",
       "  1689.3318784252267,\n",
       "  1686.4733719054539,\n",
       "  1685.6387954783304,\n",
       "  1683.1377399789249,\n",
       "  1681.0303965824642,\n",
       "  1679.3709504657886,\n",
       "  1677.9917482845076,\n",
       "  1677.046925284384,\n",
       "  1675.4970091175362,\n",
       "  1674.0154325176675,\n",
       "  1672.0157485086067,\n",
       "  1670.8592145178852,\n",
       "  1669.469004088195,\n",
       "  1667.8208675536075,\n",
       "  1666.387463174571,\n",
       "  1665.0055254711197,\n",
       "  1664.4979945630218,\n",
       "  1663.9381726263732,\n",
       "  1662.4800421116329,\n",
       "  1661.5402186178442,\n",
       "  1660.2719546647106,\n",
       "  1659.5859864858744,\n",
       "  1658.5685727483196,\n",
       "  1657.8153429400963,\n",
       "  1656.652347410603,\n",
       "  1656.1789471685777,\n",
       "  1655.89857563318,\n",
       "  1654.8803128561044,\n",
       "  1653.9963048796233,\n",
       "  1653.0308987044168,\n",
       "  1651.3086062735633,\n",
       "  1650.778072903057,\n",
       "  1650.093043653568,\n",
       "  1649.3048503296232,\n",
       "  1648.4539677134007,\n",
       "  1647.5878933265935,\n",
       "  1646.9855122245622,\n",
       "  1646.495195873039,\n",
       "  1646.232012575276,\n",
       "  1645.4923472167407,\n",
       "  1644.744294760742,\n",
       "  1643.6627817312817,\n",
       "  1643.3123281202581,\n",
       "  1643.1342862630465,\n",
       "  1642.4252834809224,\n",
       "  1641.9443844298296,\n",
       "  1641.5553727293177,\n",
       "  1641.3560585169168,\n",
       "  1640.7428187661926,\n",
       "  1639.816587253413,\n",
       "  1639.1213521446728,\n",
       "  1638.642777742723,\n",
       "  1638.4546418107318,\n",
       "  1638.1276200796037,\n",
       "  1637.6782897732796,\n",
       "  1637.4092160409605,\n",
       "  1636.840397120825,\n",
       "  1636.3755240571518,\n",
       "  1636.1690595926616,\n",
       "  1636.059970350846],\n",
       " 'rmse-stdv': [1.8336547190533101,\n",
       "  3.782115633237208,\n",
       "  6.406122879135947,\n",
       "  7.170275722069371,\n",
       "  8.177404064480202,\n",
       "  10.064775581888671,\n",
       "  11.541196091913518,\n",
       "  10.629885413964026,\n",
       "  10.973265457685809,\n",
       "  10.687085031138182,\n",
       "  11.674769936768302,\n",
       "  11.978453866344113,\n",
       "  12.023860224673388,\n",
       "  12.616976072979652,\n",
       "  13.069019624152817,\n",
       "  14.701602387709048,\n",
       "  14.6417412509054,\n",
       "  15.02276222294338,\n",
       "  14.67882327607125,\n",
       "  15.906065599110097,\n",
       "  16.23906840416226,\n",
       "  16.553335119042433,\n",
       "  16.668015779657193,\n",
       "  17.338262624623585,\n",
       "  17.656535164756626,\n",
       "  17.30022322844955,\n",
       "  16.934147078917988,\n",
       "  16.712974239388952,\n",
       "  16.98815227044376,\n",
       "  17.161784790212778,\n",
       "  16.839989069795234,\n",
       "  16.78600107412474,\n",
       "  16.524927374150973,\n",
       "  16.486458558661283,\n",
       "  17.913894164491918,\n",
       "  18.111051841860718,\n",
       "  18.284949586878973,\n",
       "  18.687675763686592,\n",
       "  18.326070656263145,\n",
       "  18.167200772776482,\n",
       "  18.62645263983967,\n",
       "  19.01489568310704,\n",
       "  18.998206968764027,\n",
       "  18.75251494524816,\n",
       "  18.823036522271625,\n",
       "  18.3533310349777,\n",
       "  18.21502603266629,\n",
       "  18.284996720142466,\n",
       "  17.909753522667174,\n",
       "  17.757695684151017,\n",
       "  17.84755414834711,\n",
       "  17.70737000964572,\n",
       "  17.44592260469534,\n",
       "  17.246229100427104,\n",
       "  16.796691463949273,\n",
       "  16.56562498617701,\n",
       "  16.609785392892515,\n",
       "  16.89094645917052,\n",
       "  16.381348588692173,\n",
       "  16.48350620223435,\n",
       "  16.492987278288513,\n",
       "  16.760391125323828,\n",
       "  16.971303320405738,\n",
       "  17.13012183185476,\n",
       "  17.439001336532932,\n",
       "  17.54016945308687,\n",
       "  17.794760627459766,\n",
       "  17.55264326110298,\n",
       "  17.449552951645206,\n",
       "  17.523105374728775,\n",
       "  17.301635590593943,\n",
       "  17.335479376665404,\n",
       "  17.129485540246694,\n",
       "  17.05365975413979,\n",
       "  17.342820760222466,\n",
       "  16.966542600576272,\n",
       "  16.550260739685577,\n",
       "  16.683501236494468,\n",
       "  16.619820645085404,\n",
       "  16.452767995688948,\n",
       "  16.30549966613664,\n",
       "  16.543700692991443,\n",
       "  16.488998061472977,\n",
       "  16.434975427310594,\n",
       "  16.393647517335456,\n",
       "  16.20030660975289,\n",
       "  16.21412289499853,\n",
       "  16.161513522337838,\n",
       "  16.208704496994613,\n",
       "  15.51793343013703,\n",
       "  15.757761039090386,\n",
       "  15.788748137500727,\n",
       "  15.881693424340083,\n",
       "  15.772647928511754,\n",
       "  15.768408886468263,\n",
       "  15.736065617658745,\n",
       "  15.496742721677192,\n",
       "  15.184919686528367,\n",
       "  15.226572841839221,\n",
       "  15.260345575359013]}"
      ]
     },
     "execution_count": 169,
     "metadata": {},
     "output_type": "execute_result"
    }
   ],
   "source": [
    "%%time\n",
    "\n",
    "LightGBM(parameters_lgbm_1, features_lgb, target, 4)"
   ]
  },
  {
   "cell_type": "code",
   "execution_count": 170,
   "metadata": {},
   "outputs": [],
   "source": [
    "# Создадим второй вариант словарь параметров для модели лгбм\n",
    "parameters_lgbm_2 = {\n",
    "    'application': 'regression',\n",
    "    'boosting': 'gbdt',\n",
    "    'num_leaves': 60,\n",
    "    'max_depth': 10,\n",
    "    'feature_fraction': 0.8,\n",
    "    'learning_rate': 0.5,\n",
    "    'metric': 'rmse',\n",
    "    'random_state': 13\n",
    "}"
   ]
  },
  {
   "cell_type": "code",
   "execution_count": 171,
   "metadata": {},
   "outputs": [
    {
     "name": "stderr",
     "output_type": "stream",
     "text": [
      "/Users/peterefimov/opt/anaconda3/lib/python3.7/site-packages/sklearn/model_selection/_split.py:667: UserWarning: The least populated class in y has only 1 members, which is less than n_splits=4.\n",
      "  % (min_groups, self.n_splits)), UserWarning)\n"
     ]
    },
    {
     "name": "stdout",
     "output_type": "stream",
     "text": [
      "CPU times: user 9.77 s, sys: 160 ms, total: 9.92 s\n",
      "Wall time: 3.09 s\n"
     ]
    },
    {
     "data": {
      "text/plain": [
       "{'rmse-mean': [2975.389383934439,\n",
       "  2281.3420108353353,\n",
       "  1995.2438180210575,\n",
       "  1874.0018055004425,\n",
       "  1793.7155461159532,\n",
       "  1761.8893350705853,\n",
       "  1739.1022838554582,\n",
       "  1726.3322678683464,\n",
       "  1718.0959050546721,\n",
       "  1707.1167454812455,\n",
       "  1701.7638119966603,\n",
       "  1696.476310187732,\n",
       "  1688.652003393066,\n",
       "  1681.9943500336292,\n",
       "  1677.5262860499124,\n",
       "  1672.490757481787,\n",
       "  1670.1394267087567,\n",
       "  1666.4297809228335,\n",
       "  1662.7415814110234,\n",
       "  1660.2895526663328,\n",
       "  1658.0889248676253,\n",
       "  1655.6620080431371,\n",
       "  1654.0122942260236,\n",
       "  1651.351958508841,\n",
       "  1649.7279018115032,\n",
       "  1647.6828122848947,\n",
       "  1646.2590152378643,\n",
       "  1645.3005854074167,\n",
       "  1643.376092122706,\n",
       "  1641.2353928822904,\n",
       "  1638.7513567370315,\n",
       "  1637.3528987388504,\n",
       "  1635.9783787232227,\n",
       "  1635.209852844795,\n",
       "  1634.148774088794,\n",
       "  1632.9162645864885,\n",
       "  1632.3114433256144,\n",
       "  1631.5403101595039,\n",
       "  1630.2326718643174,\n",
       "  1629.249145682801,\n",
       "  1628.1406955737734,\n",
       "  1626.452005244138,\n",
       "  1625.667404226735,\n",
       "  1624.3847989040953,\n",
       "  1624.0736387764505,\n",
       "  1623.5457323594221,\n",
       "  1623.0821356872773,\n",
       "  1622.4533034031072,\n",
       "  1621.966648291694,\n",
       "  1621.89976215853,\n",
       "  1621.653984141285,\n",
       "  1620.5009525894334,\n",
       "  1619.7304231045823,\n",
       "  1618.6437092411647,\n",
       "  1617.4465542353582,\n",
       "  1616.245539724209,\n",
       "  1615.8735111775525,\n",
       "  1615.6144275594902,\n",
       "  1615.0850515008285,\n",
       "  1614.5525097069333,\n",
       "  1613.6310296661982,\n",
       "  1613.0572527381007,\n",
       "  1612.8363130085145,\n",
       "  1612.445002693501,\n",
       "  1612.080717295331,\n",
       "  1611.4820846680323,\n",
       "  1611.07929661246,\n",
       "  1610.2117997792523,\n",
       "  1609.9009498195555,\n",
       "  1609.723880390705,\n",
       "  1609.439406670777],\n",
       " 'rmse-stdv': [6.809484650200104,\n",
       "  6.560258123085804,\n",
       "  10.776021305551096,\n",
       "  12.034675249247424,\n",
       "  9.388963007863232,\n",
       "  8.053201005234062,\n",
       "  8.588451810106115,\n",
       "  8.517740547300304,\n",
       "  8.143125954882036,\n",
       "  7.04164130182409,\n",
       "  8.24624816483392,\n",
       "  9.071377065469097,\n",
       "  7.925737075780533,\n",
       "  7.34312154055573,\n",
       "  7.75015345911222,\n",
       "  5.659008108231951,\n",
       "  5.917532978496686,\n",
       "  5.450313621805277,\n",
       "  6.623664558512508,\n",
       "  7.486987109929126,\n",
       "  8.01518519250944,\n",
       "  8.869830803133109,\n",
       "  9.363471745335495,\n",
       "  10.563772884630922,\n",
       "  10.099797142649328,\n",
       "  9.609541128912296,\n",
       "  9.248102278925327,\n",
       "  8.951802148871858,\n",
       "  9.079478201553737,\n",
       "  9.694973948526114,\n",
       "  9.899561218044125,\n",
       "  9.503647835352348,\n",
       "  8.902611332743563,\n",
       "  9.859870830725006,\n",
       "  9.936854328808792,\n",
       "  10.381327658266983,\n",
       "  10.51036849560568,\n",
       "  10.741182044082807,\n",
       "  11.16484711184716,\n",
       "  11.566019020045754,\n",
       "  11.456835093360711,\n",
       "  11.589352815736584,\n",
       "  11.74460711419439,\n",
       "  11.768631102598805,\n",
       "  12.01076400078566,\n",
       "  11.997836828130371,\n",
       "  11.771484819111206,\n",
       "  11.239673409615836,\n",
       "  11.559947375198714,\n",
       "  11.73491788758998,\n",
       "  11.540914248979103,\n",
       "  11.094996567850961,\n",
       "  11.210370672023478,\n",
       "  11.111107718954678,\n",
       "  11.582205210750631,\n",
       "  11.473011151387869,\n",
       "  11.358558255557034,\n",
       "  11.03024429971364,\n",
       "  10.993425720016932,\n",
       "  10.780816493774674,\n",
       "  10.180911764840173,\n",
       "  10.53180357797647,\n",
       "  10.733653923268786,\n",
       "  10.896019227594346,\n",
       "  11.349245062351804,\n",
       "  10.74806332276788,\n",
       "  10.770594510162331,\n",
       "  10.681101030959711,\n",
       "  10.538153270758826,\n",
       "  10.44944222045309,\n",
       "  10.62746940243544]}"
      ]
     },
     "execution_count": 171,
     "metadata": {},
     "output_type": "execute_result"
    }
   ],
   "source": [
    "%%time\n",
    "\n",
    "LightGBM(parameters_lgbm_2, features, target, 4)"
   ]
  },
  {
   "cell_type": "code",
   "execution_count": 172,
   "metadata": {},
   "outputs": [],
   "source": [
    "# Создадим третий вариант словарь параметров для модели лгбм\n",
    "parameters_lgbm_3 = {\n",
    "    'application': 'regression',\n",
    "    'boosting': 'gbdt',\n",
    "    'num_leaves': 100,\n",
    "    'max_depth': 15,\n",
    "    'feature_fraction': 1.0,\n",
    "    'learning_rate': 0.75,\n",
    "    'metric': 'rmse',\n",
    "    'random_state': 13\n",
    "}"
   ]
  },
  {
   "cell_type": "code",
   "execution_count": 173,
   "metadata": {
    "scrolled": true
   },
   "outputs": [
    {
     "name": "stderr",
     "output_type": "stream",
     "text": [
      "/Users/peterefimov/opt/anaconda3/lib/python3.7/site-packages/sklearn/model_selection/_split.py:667: UserWarning: The least populated class in y has only 1 members, which is less than n_splits=4.\n",
      "  % (min_groups, self.n_splits)), UserWarning)\n"
     ]
    },
    {
     "name": "stdout",
     "output_type": "stream",
     "text": [
      "CPU times: user 6.79 s, sys: 99.4 ms, total: 6.89 s\n",
      "Wall time: 2.16 s\n"
     ]
    },
    {
     "data": {
      "text/plain": [
       "{'rmse-mean': [2316.125828129532,\n",
       "  1899.8043288360564,\n",
       "  1812.7048388754718,\n",
       "  1773.255574481735,\n",
       "  1747.9368535103376,\n",
       "  1729.5054581761437,\n",
       "  1717.3444937050167,\n",
       "  1708.4449370652037,\n",
       "  1704.0551455288344,\n",
       "  1697.3699929928605,\n",
       "  1692.8076866130286,\n",
       "  1688.075454215552,\n",
       "  1682.638511240102,\n",
       "  1679.5448328296934,\n",
       "  1674.8951042046865,\n",
       "  1672.3838372384712,\n",
       "  1669.6775113653675,\n",
       "  1669.0104600785792,\n",
       "  1666.8084369106286,\n",
       "  1663.7377645895453,\n",
       "  1662.0071334675768,\n",
       "  1660.982628249192,\n",
       "  1659.9300093834086,\n",
       "  1658.9984434783614,\n",
       "  1658.2341351222879,\n",
       "  1657.4612930259343,\n",
       "  1656.2820020263,\n",
       "  1655.3777108349886,\n",
       "  1654.859892246685],\n",
       " 'rmse-stdv': [8.868191052331767,\n",
       "  11.870220165433098,\n",
       "  12.769046983950854,\n",
       "  13.267181726244493,\n",
       "  14.782792887967139,\n",
       "  13.856851461641146,\n",
       "  11.2065294403879,\n",
       "  12.489334630278147,\n",
       "  10.560448991141246,\n",
       "  9.617425368344009,\n",
       "  9.330230023321718,\n",
       "  12.341956646680039,\n",
       "  12.047007012630992,\n",
       "  11.63617380947177,\n",
       "  11.826361313879179,\n",
       "  10.226524562881144,\n",
       "  11.05008096733314,\n",
       "  10.407551682485794,\n",
       "  9.73743037550268,\n",
       "  10.408392880568558,\n",
       "  9.790705206479197,\n",
       "  10.663738898015936,\n",
       "  10.705292336431697,\n",
       "  9.770006635566427,\n",
       "  10.01167226576648,\n",
       "  10.077179840509242,\n",
       "  9.898713599072892,\n",
       "  9.879923892090822,\n",
       "  10.01717942675431]}"
      ]
     },
     "execution_count": 173,
     "metadata": {},
     "output_type": "execute_result"
    }
   ],
   "source": [
    "%%time\n",
    "\n",
    "LightGBM(parameters_lgbm_3, features, target, 4)"
   ]
  },
  {
   "cell_type": "markdown",
   "metadata": {},
   "source": [
    "Считаю наиболее оптимальной по скорости и точности модель на втором наборе параметров. Сохраним их в отдельную переменную."
   ]
  },
  {
   "cell_type": "code",
   "execution_count": 183,
   "metadata": {},
   "outputs": [
    {
     "data": {
      "text/plain": [
       "{'application': 'regression',\n",
       " 'boosting': 'gbdt',\n",
       " 'num_leaves': 60,\n",
       " 'max_depth': 10,\n",
       " 'feature_fraction': 0.8,\n",
       " 'learning_rate': 0.5,\n",
       " 'metric': 'rmse',\n",
       " 'random_state': 13}"
      ]
     },
     "metadata": {},
     "output_type": "display_data"
    }
   ],
   "source": [
    "LGBM_best_params = parameters_lgbm_2\n",
    "display(LGBM_best_params)"
   ]
  },
  {
   "cell_type": "markdown",
   "metadata": {},
   "source": [
    "## Модель Catboost"
   ]
  },
  {
   "cell_type": "code",
   "execution_count": 211,
   "metadata": {},
   "outputs": [],
   "source": [
    "features_cat = features.copy()"
   ]
  },
  {
   "cell_type": "code",
   "execution_count": 155,
   "metadata": {},
   "outputs": [],
   "source": [
    "# Напишем функцию для обучения модели\n",
    "\n",
    "def CatBoost(parameters, features, target):\n",
    "    \"\"\"Функция обучает модель по алгоритму catboost, на вход принимает словарь параметров,\n",
    "    датафрейм features и target.\n",
    "    Возвращает значение RMSE на кросс-валидации\"\"\"\n",
    "    \n",
    "    # Делим датасет на обучающие и тестовые выборки\n",
    "    X_train, X_test, y_train, y_test = train_test_split(features, target, test_size = 0.2, random_state = 13)\n",
    "    \n",
    "    categorial_features = categorial_features_finder(features)\n",
    "    \n",
    "    # Готовим датасет для кэтбуста\n",
    "    train_pool = Pool(X_train, label = y_train, cat_features = categorial_features)\n",
    "    \n",
    "    cv_score = cv(train_pool, parameters, fold_count = 4, verbose = 5)"
   ]
  },
  {
   "cell_type": "code",
   "execution_count": 156,
   "metadata": {},
   "outputs": [],
   "source": [
    "# Создадим первый вариант словаря параметров для кэтбуста\n",
    "\n",
    "parameters_catboost_1 = {\n",
    "    'n_estimators': 50,\n",
    "    'max_depth': 5,\n",
    "    'learning_rate': 0.25,\n",
    "    'loss_function': 'RMSE',\n",
    "    'random_seed': 13,\n",
    "}"
   ]
  },
  {
   "cell_type": "code",
   "execution_count": 157,
   "metadata": {
    "scrolled": true
   },
   "outputs": [
    {
     "name": "stdout",
     "output_type": "stream",
     "text": [
      "0:\tlearn: 5352.2578877\ttest: 5352.9460905\tbest: 5352.9460905 (0)\ttotal: 312ms\tremaining: 15.3s\n",
      "5:\tlearn: 2626.6550775\ttest: 2627.2547256\tbest: 2627.2547256 (5)\ttotal: 1.22s\tremaining: 8.98s\n",
      "10:\tlearn: 2123.5498445\ttest: 2124.8835596\tbest: 2124.8835596 (10)\ttotal: 2.04s\tremaining: 7.24s\n",
      "15:\tlearn: 1983.4299212\ttest: 1986.6210933\tbest: 1986.6210933 (15)\ttotal: 2.85s\tremaining: 6.06s\n",
      "20:\tlearn: 1927.0602613\ttest: 1931.3910456\tbest: 1931.3910456 (20)\ttotal: 3.64s\tremaining: 5.03s\n",
      "25:\tlearn: 1891.0516037\ttest: 1896.5998402\tbest: 1896.5998402 (25)\ttotal: 4.52s\tremaining: 4.17s\n",
      "30:\tlearn: 1867.5138264\ttest: 1874.6304171\tbest: 1874.6304171 (30)\ttotal: 5.4s\tremaining: 3.31s\n",
      "35:\tlearn: 1847.8309461\ttest: 1855.6723979\tbest: 1855.6723979 (35)\ttotal: 6.27s\tremaining: 2.44s\n",
      "40:\tlearn: 1831.1167433\ttest: 1839.0869743\tbest: 1839.0869743 (40)\ttotal: 7.09s\tremaining: 1.56s\n",
      "45:\tlearn: 1814.8106545\ttest: 1823.8103954\tbest: 1823.8103954 (45)\ttotal: 7.92s\tremaining: 688ms\n",
      "49:\tlearn: 1805.0240462\ttest: 1814.5623302\tbest: 1814.5623302 (49)\ttotal: 8.54s\tremaining: 0us\n",
      "CPU times: user 19 s, sys: 2.92 s, total: 21.9 s\n",
      "Wall time: 9.14 s\n"
     ]
    }
   ],
   "source": [
    "%%time\n",
    "\n",
    "CatBoost(parameters_catboost_1, features_cat, target)"
   ]
  },
  {
   "cell_type": "code",
   "execution_count": 153,
   "metadata": {},
   "outputs": [],
   "source": [
    "# Создадим второй вариант словаря параметров для кэтбуста\n",
    "\n",
    "parameters_catboost_2 = {\n",
    "    'n_estimators': 100,\n",
    "    'max_depth': 10,\n",
    "    'learning_rate': 0.5,\n",
    "    'loss_function': 'RMSE',\n",
    "    'random_seed': 13,\n",
    "}"
   ]
  },
  {
   "cell_type": "code",
   "execution_count": 158,
   "metadata": {
    "scrolled": true
   },
   "outputs": [
    {
     "name": "stdout",
     "output_type": "stream",
     "text": [
      "0:\tlearn: 4015.1265613\ttest: 4016.4888889\tbest: 4016.4888889 (0)\ttotal: 546ms\tremaining: 54.1s\n",
      "5:\tlearn: 1875.3900254\ttest: 1886.4165799\tbest: 1886.4165799 (5)\ttotal: 1.99s\tremaining: 31.2s\n",
      "10:\tlearn: 1756.4445167\ttest: 1782.1846254\tbest: 1782.1846254 (10)\ttotal: 3.35s\tremaining: 27.1s\n",
      "15:\tlearn: 1703.0571000\ttest: 1739.1817453\tbest: 1739.1817453 (15)\ttotal: 5.13s\tremaining: 26.9s\n",
      "20:\tlearn: 1660.1622394\ttest: 1708.7965343\tbest: 1708.7965343 (20)\ttotal: 7.04s\tremaining: 26.5s\n",
      "25:\tlearn: 1631.3586955\ttest: 1690.6836242\tbest: 1690.6836242 (25)\ttotal: 8.58s\tremaining: 24.4s\n",
      "30:\tlearn: 1608.3035129\ttest: 1677.6303340\tbest: 1677.6303340 (30)\ttotal: 10.1s\tremaining: 22.5s\n",
      "35:\tlearn: 1587.1553684\ttest: 1666.3334046\tbest: 1666.3334046 (35)\ttotal: 11.7s\tremaining: 20.8s\n",
      "40:\tlearn: 1569.6059470\ttest: 1658.4345141\tbest: 1658.4345141 (40)\ttotal: 13.1s\tremaining: 18.9s\n",
      "45:\tlearn: 1553.5771595\ttest: 1650.9847672\tbest: 1650.9847672 (45)\ttotal: 14.6s\tremaining: 17.2s\n",
      "50:\tlearn: 1539.0898550\ttest: 1644.6259178\tbest: 1644.6259178 (50)\ttotal: 15.9s\tremaining: 15.3s\n",
      "55:\tlearn: 1524.5835987\ttest: 1637.9522603\tbest: 1637.9522603 (55)\ttotal: 17.5s\tremaining: 13.7s\n",
      "60:\tlearn: 1512.4475428\ttest: 1633.6257694\tbest: 1633.6257694 (60)\ttotal: 18.9s\tremaining: 12.1s\n",
      "65:\tlearn: 1499.3732323\ttest: 1628.6415797\tbest: 1628.6415797 (65)\ttotal: 20.6s\tremaining: 10.6s\n",
      "70:\tlearn: 1488.2078343\ttest: 1624.3753581\tbest: 1624.3753581 (70)\ttotal: 22.8s\tremaining: 9.3s\n",
      "75:\tlearn: 1478.0975872\ttest: 1620.5184365\tbest: 1620.5184365 (75)\ttotal: 24.1s\tremaining: 7.62s\n",
      "80:\tlearn: 1470.2353121\ttest: 1617.6487017\tbest: 1617.6487017 (80)\ttotal: 25.5s\tremaining: 5.99s\n",
      "85:\tlearn: 1462.0987850\ttest: 1615.0993290\tbest: 1615.0993290 (85)\ttotal: 27s\tremaining: 4.39s\n",
      "90:\tlearn: 1452.4322899\ttest: 1612.4108073\tbest: 1612.4108073 (90)\ttotal: 28.4s\tremaining: 2.81s\n",
      "95:\tlearn: 1444.7654928\ttest: 1610.2696489\tbest: 1610.2696489 (95)\ttotal: 29.8s\tremaining: 1.24s\n",
      "99:\tlearn: 1438.4114657\ttest: 1608.3225917\tbest: 1608.3225917 (99)\ttotal: 31s\tremaining: 0us\n",
      "CPU times: user 1min 6s, sys: 6.64 s, total: 1min 12s\n",
      "Wall time: 31.6 s\n"
     ]
    }
   ],
   "source": [
    "%%time\n",
    "\n",
    "CatBoost(parameters_catboost_2, features_cat, target)"
   ]
  },
  {
   "cell_type": "code",
   "execution_count": 164,
   "metadata": {},
   "outputs": [],
   "source": [
    "# Создадим третий вариант словаря параметров для кэтбуста\n",
    "\n",
    "parameters_catboost_3 = {\n",
    "    'n_estimators': 75,\n",
    "    'max_depth': 8,\n",
    "    'learning_rate': 0.7,\n",
    "    'loss_function': 'RMSE',\n",
    "    'random_seed': 13,\n",
    "}"
   ]
  },
  {
   "cell_type": "code",
   "execution_count": 165,
   "metadata": {},
   "outputs": [
    {
     "name": "stdout",
     "output_type": "stream",
     "text": [
      "0:\tlearn: 3200.0617834\ttest: 3201.7762084\tbest: 3201.7762084 (0)\ttotal: 439ms\tremaining: 32.5s\n",
      "5:\tlearn: 1913.5057733\ttest: 1923.7171845\tbest: 1923.7171845 (5)\ttotal: 1.55s\tremaining: 17.9s\n",
      "10:\tlearn: 1802.6114503\ttest: 1823.6129391\tbest: 1823.6129391 (10)\ttotal: 2.73s\tremaining: 15.9s\n",
      "15:\tlearn: 1753.8201764\ttest: 1781.5308128\tbest: 1781.5308128 (15)\ttotal: 3.86s\tremaining: 14.2s\n",
      "20:\tlearn: 1719.4290042\ttest: 1754.9690479\tbest: 1754.9690479 (20)\ttotal: 4.9s\tremaining: 12.6s\n",
      "25:\tlearn: 1690.2042413\ttest: 1733.9445605\tbest: 1733.9445605 (25)\ttotal: 6.03s\tremaining: 11.4s\n",
      "30:\tlearn: 1665.9185857\ttest: 1718.7588769\tbest: 1718.7588769 (30)\ttotal: 7.23s\tremaining: 10.3s\n",
      "35:\tlearn: 1644.5716478\ttest: 1703.3976079\tbest: 1703.3976079 (35)\ttotal: 8.56s\tremaining: 9.28s\n",
      "40:\tlearn: 1627.8980980\ttest: 1693.1023481\tbest: 1693.1023481 (40)\ttotal: 9.7s\tremaining: 8.05s\n",
      "45:\tlearn: 1613.9644048\ttest: 1686.3860097\tbest: 1686.3860097 (45)\ttotal: 10.8s\tremaining: 6.82s\n",
      "50:\tlearn: 1601.5365023\ttest: 1680.4908692\tbest: 1680.4908692 (50)\ttotal: 11.9s\tremaining: 5.6s\n",
      "55:\tlearn: 1588.2884668\ttest: 1674.6552057\tbest: 1674.6552057 (55)\ttotal: 13.1s\tremaining: 4.44s\n",
      "60:\tlearn: 1577.6577164\ttest: 1669.9877492\tbest: 1669.9877492 (60)\ttotal: 14.2s\tremaining: 3.26s\n",
      "65:\tlearn: 1568.0427714\ttest: 1665.5162618\tbest: 1665.5162618 (65)\ttotal: 15.4s\tremaining: 2.09s\n",
      "70:\tlearn: 1559.3232477\ttest: 1661.7823046\tbest: 1661.7823046 (70)\ttotal: 16.5s\tremaining: 928ms\n",
      "74:\tlearn: 1551.7875139\ttest: 1658.3924462\tbest: 1658.3924462 (74)\ttotal: 17.4s\tremaining: 0us\n",
      "CPU times: user 39 s, sys: 5.59 s, total: 44.6 s\n",
      "Wall time: 18 s\n"
     ]
    }
   ],
   "source": [
    "%%time\n",
    "\n",
    "CatBoost(parameters_catboost_3, features_cat, target)"
   ]
  },
  {
   "cell_type": "markdown",
   "metadata": {},
   "source": [
    "Модель Catboost работает медленее LGBM, однако показывает лучшее значение RMSE. Сравнима по точности и скорости она при использовании третьего набора гиперпараметров. Сохраним их."
   ]
  },
  {
   "cell_type": "code",
   "execution_count": 184,
   "metadata": {},
   "outputs": [
    {
     "data": {
      "text/plain": [
       "{'n_estimators': 75,\n",
       " 'max_depth': 8,\n",
       " 'learning_rate': 0.7,\n",
       " 'loss_function': 'RMSE',\n",
       " 'random_seed': 13}"
      ]
     },
     "metadata": {},
     "output_type": "display_data"
    }
   ],
   "source": [
    "Catboost_best_params = parameters_catboost_3\n",
    "display(Catboost_best_params)"
   ]
  },
  {
   "cell_type": "markdown",
   "metadata": {},
   "source": [
    "## Модель XGBooster"
   ]
  },
  {
   "cell_type": "code",
   "execution_count": 175,
   "metadata": {},
   "outputs": [],
   "source": [
    "features_xgb = features.copy()"
   ]
  },
  {
   "cell_type": "markdown",
   "metadata": {},
   "source": [
    "Напишем функцию для кросс-валидации XGBooster"
   ]
  },
  {
   "cell_type": "code",
   "execution_count": 179,
   "metadata": {},
   "outputs": [],
   "source": [
    "def XGBoosterRegressor(parameters, features, target):\n",
    "    \"\"\"Функцияя принимает на вход параметры, features и target\n",
    "    Делает кодирование категориальных признаков для их адаптации к модели XGB\n",
    "    возвращает скор для модели XGB\"\"\"\n",
    "    features_new = pd.get_dummies(features, drop_first = True)\n",
    "    \n",
    "    # Делим датасет на обучающие и тестовые выборки\n",
    "    X_train, X_test, y_train, y_test = train_test_split(features_new, target, test_size = 0.2, random_state = 13)\n",
    "\n",
    "    d_train = xgb.DMatrix(X_train, label = y_train)\n",
    "    \n",
    "    cv_score = xgb.cv(parameters, d_train, nfold = 4)\n",
    "    \n",
    "    return cv_score"
   ]
  },
  {
   "cell_type": "code",
   "execution_count": 177,
   "metadata": {},
   "outputs": [],
   "source": [
    "parameters_XGBooster_1 = {\n",
    "    'objective': 'reg:linear',\n",
    "    'n_estimators': 50,\n",
    "    'max_depth': 5,\n",
    "    'eta': 0.25,\n",
    "    'eval_metric': 'rmse',\n",
    "    'seed': 13\n",
    "}"
   ]
  },
  {
   "cell_type": "code",
   "execution_count": 180,
   "metadata": {},
   "outputs": [
    {
     "name": "stdout",
     "output_type": "stream",
     "text": [
      "[15:17:02] WARNING: src/objective/regression_obj.cu:152: reg:linear is now deprecated in favor of reg:squarederror.\n",
      "[15:17:06] WARNING: src/objective/regression_obj.cu:152: reg:linear is now deprecated in favor of reg:squarederror.\n",
      "[15:17:09] WARNING: src/objective/regression_obj.cu:152: reg:linear is now deprecated in favor of reg:squarederror.\n",
      "[15:17:12] WARNING: src/objective/regression_obj.cu:152: reg:linear is now deprecated in favor of reg:squarederror.\n",
      "CPU times: user 3min 58s, sys: 12.8 s, total: 4min 11s\n",
      "Wall time: 1min 17s\n"
     ]
    },
    {
     "data": {
      "text/html": [
       "<div>\n",
       "<style scoped>\n",
       "    .dataframe tbody tr th:only-of-type {\n",
       "        vertical-align: middle;\n",
       "    }\n",
       "\n",
       "    .dataframe tbody tr th {\n",
       "        vertical-align: top;\n",
       "    }\n",
       "\n",
       "    .dataframe thead th {\n",
       "        text-align: right;\n",
       "    }\n",
       "</style>\n",
       "<table border=\"1\" class=\"dataframe\">\n",
       "  <thead>\n",
       "    <tr style=\"text-align: right;\">\n",
       "      <th></th>\n",
       "      <th>train-rmse-mean</th>\n",
       "      <th>train-rmse-std</th>\n",
       "      <th>test-rmse-mean</th>\n",
       "      <th>test-rmse-std</th>\n",
       "    </tr>\n",
       "  </thead>\n",
       "  <tbody>\n",
       "    <tr>\n",
       "      <th>0</th>\n",
       "      <td>5269.871948</td>\n",
       "      <td>6.249725</td>\n",
       "      <td>5270.775635</td>\n",
       "      <td>24.617780</td>\n",
       "    </tr>\n",
       "    <tr>\n",
       "      <th>1</th>\n",
       "      <td>4251.702027</td>\n",
       "      <td>3.725088</td>\n",
       "      <td>4252.550537</td>\n",
       "      <td>23.840003</td>\n",
       "    </tr>\n",
       "    <tr>\n",
       "      <th>2</th>\n",
       "      <td>3522.542481</td>\n",
       "      <td>2.867662</td>\n",
       "      <td>3524.813781</td>\n",
       "      <td>20.610652</td>\n",
       "    </tr>\n",
       "    <tr>\n",
       "      <th>3</th>\n",
       "      <td>3015.238281</td>\n",
       "      <td>3.519012</td>\n",
       "      <td>3018.852478</td>\n",
       "      <td>17.198582</td>\n",
       "    </tr>\n",
       "    <tr>\n",
       "      <th>4</th>\n",
       "      <td>2671.291504</td>\n",
       "      <td>2.518125</td>\n",
       "      <td>2676.119385</td>\n",
       "      <td>16.229703</td>\n",
       "    </tr>\n",
       "    <tr>\n",
       "      <th>5</th>\n",
       "      <td>2436.235230</td>\n",
       "      <td>3.693790</td>\n",
       "      <td>2441.587097</td>\n",
       "      <td>14.020220</td>\n",
       "    </tr>\n",
       "    <tr>\n",
       "      <th>6</th>\n",
       "      <td>2279.513672</td>\n",
       "      <td>2.702017</td>\n",
       "      <td>2285.903137</td>\n",
       "      <td>13.282044</td>\n",
       "    </tr>\n",
       "    <tr>\n",
       "      <th>7</th>\n",
       "      <td>2167.535278</td>\n",
       "      <td>4.973609</td>\n",
       "      <td>2174.538636</td>\n",
       "      <td>12.014410</td>\n",
       "    </tr>\n",
       "    <tr>\n",
       "      <th>8</th>\n",
       "      <td>2086.064026</td>\n",
       "      <td>6.886576</td>\n",
       "      <td>2094.907776</td>\n",
       "      <td>13.202143</td>\n",
       "    </tr>\n",
       "    <tr>\n",
       "      <th>9</th>\n",
       "      <td>2028.103149</td>\n",
       "      <td>7.548124</td>\n",
       "      <td>2038.657898</td>\n",
       "      <td>12.880889</td>\n",
       "    </tr>\n",
       "  </tbody>\n",
       "</table>\n",
       "</div>"
      ],
      "text/plain": [
       "   train-rmse-mean  train-rmse-std  test-rmse-mean  test-rmse-std\n",
       "0      5269.871948        6.249725     5270.775635      24.617780\n",
       "1      4251.702027        3.725088     4252.550537      23.840003\n",
       "2      3522.542481        2.867662     3524.813781      20.610652\n",
       "3      3015.238281        3.519012     3018.852478      17.198582\n",
       "4      2671.291504        2.518125     2676.119385      16.229703\n",
       "5      2436.235230        3.693790     2441.587097      14.020220\n",
       "6      2279.513672        2.702017     2285.903137      13.282044\n",
       "7      2167.535278        4.973609     2174.538636      12.014410\n",
       "8      2086.064026        6.886576     2094.907776      13.202143\n",
       "9      2028.103149        7.548124     2038.657898      12.880889"
      ]
     },
     "execution_count": 180,
     "metadata": {},
     "output_type": "execute_result"
    }
   ],
   "source": [
    "%%time\n",
    "\n",
    "XGBoosterRegressor(parameters_XGBooster_1, features_xgb, target)"
   ]
  },
  {
   "cell_type": "code",
   "execution_count": 186,
   "metadata": {},
   "outputs": [],
   "source": [
    "# Попробуем получить мЕньшую ошибку на новом наборе гиперпараметров\n",
    "\n",
    "parameters_XGBooster_2 = {\n",
    "    'objective': 'reg:linear',\n",
    "    'n_estimators': 75,\n",
    "    'max_depth': 7,\n",
    "    'eta': 0.25,\n",
    "    'eval_metric': 'rmse',\n",
    "    'seed': 13\n",
    "}"
   ]
  },
  {
   "cell_type": "code",
   "execution_count": 187,
   "metadata": {},
   "outputs": [
    {
     "name": "stdout",
     "output_type": "stream",
     "text": [
      "[10:31:18] WARNING: src/objective/regression_obj.cu:152: reg:linear is now deprecated in favor of reg:squarederror.\n",
      "[10:31:22] WARNING: src/objective/regression_obj.cu:152: reg:linear is now deprecated in favor of reg:squarederror.\n",
      "[10:31:25] WARNING: src/objective/regression_obj.cu:152: reg:linear is now deprecated in favor of reg:squarederror.\n",
      "[10:31:29] WARNING: src/objective/regression_obj.cu:152: reg:linear is now deprecated in favor of reg:squarederror.\n",
      "CPU times: user 4min 50s, sys: 10.4 s, total: 5min 1s\n",
      "Wall time: 1min 29s\n"
     ]
    },
    {
     "data": {
      "text/html": [
       "<div>\n",
       "<style scoped>\n",
       "    .dataframe tbody tr th:only-of-type {\n",
       "        vertical-align: middle;\n",
       "    }\n",
       "\n",
       "    .dataframe tbody tr th {\n",
       "        vertical-align: top;\n",
       "    }\n",
       "\n",
       "    .dataframe thead th {\n",
       "        text-align: right;\n",
       "    }\n",
       "</style>\n",
       "<table border=\"1\" class=\"dataframe\">\n",
       "  <thead>\n",
       "    <tr style=\"text-align: right;\">\n",
       "      <th></th>\n",
       "      <th>train-rmse-mean</th>\n",
       "      <th>train-rmse-std</th>\n",
       "      <th>test-rmse-mean</th>\n",
       "      <th>test-rmse-std</th>\n",
       "    </tr>\n",
       "  </thead>\n",
       "  <tbody>\n",
       "    <tr>\n",
       "      <th>0</th>\n",
       "      <td>5221.269531</td>\n",
       "      <td>6.073413</td>\n",
       "      <td>5223.083496</td>\n",
       "      <td>23.917078</td>\n",
       "    </tr>\n",
       "    <tr>\n",
       "      <th>1</th>\n",
       "      <td>4159.621948</td>\n",
       "      <td>3.991392</td>\n",
       "      <td>4163.398071</td>\n",
       "      <td>22.279162</td>\n",
       "    </tr>\n",
       "    <tr>\n",
       "      <th>2</th>\n",
       "      <td>3404.288208</td>\n",
       "      <td>3.537789</td>\n",
       "      <td>3410.744995</td>\n",
       "      <td>20.261047</td>\n",
       "    </tr>\n",
       "    <tr>\n",
       "      <th>3</th>\n",
       "      <td>2875.730957</td>\n",
       "      <td>3.364748</td>\n",
       "      <td>2886.062561</td>\n",
       "      <td>17.915143</td>\n",
       "    </tr>\n",
       "    <tr>\n",
       "      <th>4</th>\n",
       "      <td>2510.736450</td>\n",
       "      <td>3.411873</td>\n",
       "      <td>2524.861389</td>\n",
       "      <td>15.993042</td>\n",
       "    </tr>\n",
       "    <tr>\n",
       "      <th>5</th>\n",
       "      <td>2262.769470</td>\n",
       "      <td>3.410021</td>\n",
       "      <td>2280.731812</td>\n",
       "      <td>13.088094</td>\n",
       "    </tr>\n",
       "    <tr>\n",
       "      <th>6</th>\n",
       "      <td>2096.346130</td>\n",
       "      <td>2.279791</td>\n",
       "      <td>2118.372253</td>\n",
       "      <td>10.185581</td>\n",
       "    </tr>\n",
       "    <tr>\n",
       "      <th>7</th>\n",
       "      <td>1982.109955</td>\n",
       "      <td>2.702962</td>\n",
       "      <td>2007.801361</td>\n",
       "      <td>11.914775</td>\n",
       "    </tr>\n",
       "    <tr>\n",
       "      <th>8</th>\n",
       "      <td>1903.821442</td>\n",
       "      <td>2.628291</td>\n",
       "      <td>1933.145477</td>\n",
       "      <td>11.107847</td>\n",
       "    </tr>\n",
       "    <tr>\n",
       "      <th>9</th>\n",
       "      <td>1846.639374</td>\n",
       "      <td>4.041208</td>\n",
       "      <td>1879.544159</td>\n",
       "      <td>10.951440</td>\n",
       "    </tr>\n",
       "  </tbody>\n",
       "</table>\n",
       "</div>"
      ],
      "text/plain": [
       "   train-rmse-mean  train-rmse-std  test-rmse-mean  test-rmse-std\n",
       "0      5221.269531        6.073413     5223.083496      23.917078\n",
       "1      4159.621948        3.991392     4163.398071      22.279162\n",
       "2      3404.288208        3.537789     3410.744995      20.261047\n",
       "3      2875.730957        3.364748     2886.062561      17.915143\n",
       "4      2510.736450        3.411873     2524.861389      15.993042\n",
       "5      2262.769470        3.410021     2280.731812      13.088094\n",
       "6      2096.346130        2.279791     2118.372253      10.185581\n",
       "7      1982.109955        2.702962     2007.801361      11.914775\n",
       "8      1903.821442        2.628291     1933.145477      11.107847\n",
       "9      1846.639374        4.041208     1879.544159      10.951440"
      ]
     },
     "execution_count": 187,
     "metadata": {},
     "output_type": "execute_result"
    }
   ],
   "source": [
    "%%time\n",
    "\n",
    "XGBoosterRegressor(parameters_XGBooster_2, features_xgb, target)"
   ]
  },
  {
   "cell_type": "markdown",
   "metadata": {},
   "source": [
    "Попробуем убрать признак мощности, как наиболее насыщенный уникальными значениями, из features и оценить, как это повлияет на скорость и точность модели."
   ]
  },
  {
   "cell_type": "code",
   "execution_count": 192,
   "metadata": {},
   "outputs": [
    {
     "data": {
      "text/html": [
       "<div>\n",
       "<style scoped>\n",
       "    .dataframe tbody tr th:only-of-type {\n",
       "        vertical-align: middle;\n",
       "    }\n",
       "\n",
       "    .dataframe tbody tr th {\n",
       "        vertical-align: top;\n",
       "    }\n",
       "\n",
       "    .dataframe thead th {\n",
       "        text-align: right;\n",
       "    }\n",
       "</style>\n",
       "<table border=\"1\" class=\"dataframe\">\n",
       "  <thead>\n",
       "    <tr style=\"text-align: right;\">\n",
       "      <th></th>\n",
       "      <th>VehicleType</th>\n",
       "      <th>RegistrationYear</th>\n",
       "      <th>Gearbox</th>\n",
       "      <th>Model</th>\n",
       "      <th>Kilometer</th>\n",
       "      <th>FuelType</th>\n",
       "      <th>Brand</th>\n",
       "      <th>NotRepaired</th>\n",
       "    </tr>\n",
       "  </thead>\n",
       "  <tbody>\n",
       "    <tr>\n",
       "      <th>1</th>\n",
       "      <td>coupe</td>\n",
       "      <td>2011</td>\n",
       "      <td>manual</td>\n",
       "      <td>other</td>\n",
       "      <td>125000</td>\n",
       "      <td>gasoline</td>\n",
       "      <td>audi</td>\n",
       "      <td>yes</td>\n",
       "    </tr>\n",
       "    <tr>\n",
       "      <th>2</th>\n",
       "      <td>suv</td>\n",
       "      <td>2004</td>\n",
       "      <td>auto</td>\n",
       "      <td>grand</td>\n",
       "      <td>125000</td>\n",
       "      <td>gasoline</td>\n",
       "      <td>jeep</td>\n",
       "      <td>no</td>\n",
       "    </tr>\n",
       "    <tr>\n",
       "      <th>3</th>\n",
       "      <td>small</td>\n",
       "      <td>2001</td>\n",
       "      <td>manual</td>\n",
       "      <td>golf</td>\n",
       "      <td>150000</td>\n",
       "      <td>petrol</td>\n",
       "      <td>volkswagen</td>\n",
       "      <td>no</td>\n",
       "    </tr>\n",
       "    <tr>\n",
       "      <th>4</th>\n",
       "      <td>small</td>\n",
       "      <td>2008</td>\n",
       "      <td>manual</td>\n",
       "      <td>fabia</td>\n",
       "      <td>90000</td>\n",
       "      <td>gasoline</td>\n",
       "      <td>skoda</td>\n",
       "      <td>no</td>\n",
       "    </tr>\n",
       "    <tr>\n",
       "      <th>5</th>\n",
       "      <td>sedan</td>\n",
       "      <td>1995</td>\n",
       "      <td>manual</td>\n",
       "      <td>3er</td>\n",
       "      <td>150000</td>\n",
       "      <td>petrol</td>\n",
       "      <td>bmw</td>\n",
       "      <td>yes</td>\n",
       "    </tr>\n",
       "  </tbody>\n",
       "</table>\n",
       "</div>"
      ],
      "text/plain": [
       "  VehicleType  RegistrationYear Gearbox  Model  Kilometer  FuelType  \\\n",
       "1       coupe              2011  manual  other     125000  gasoline   \n",
       "2         suv              2004    auto  grand     125000  gasoline   \n",
       "3       small              2001  manual   golf     150000    petrol   \n",
       "4       small              2008  manual  fabia      90000  gasoline   \n",
       "5       sedan              1995  manual    3er     150000    petrol   \n",
       "\n",
       "        Brand NotRepaired  \n",
       "1        audi         yes  \n",
       "2        jeep          no  \n",
       "3  volkswagen          no  \n",
       "4       skoda          no  \n",
       "5         bmw         yes  "
      ]
     },
     "execution_count": 192,
     "metadata": {},
     "output_type": "execute_result"
    }
   ],
   "source": [
    "features_xgb_new = features_xgb.drop(['Power'], axis = 1)\n",
    "features_xgb_new.head()"
   ]
  },
  {
   "cell_type": "code",
   "execution_count": 193,
   "metadata": {},
   "outputs": [],
   "source": [
    "# Зададим ещё один словарь параметров для модели:\n",
    "\n",
    "parameters_XGBooster_3 = {\n",
    "    'objective': 'reg:linear',\n",
    "    'n_estimators': 100,\n",
    "    'max_depth': 10,\n",
    "    'eta': 0.25,\n",
    "    'eval_metric': 'rmse',\n",
    "    'seed': 13\n",
    "}"
   ]
  },
  {
   "cell_type": "code",
   "execution_count": 194,
   "metadata": {},
   "outputs": [
    {
     "name": "stdout",
     "output_type": "stream",
     "text": [
      "[10:38:36] WARNING: src/objective/regression_obj.cu:152: reg:linear is now deprecated in favor of reg:squarederror.\n",
      "[10:38:40] WARNING: src/objective/regression_obj.cu:152: reg:linear is now deprecated in favor of reg:squarederror.\n",
      "[10:38:45] WARNING: src/objective/regression_obj.cu:152: reg:linear is now deprecated in favor of reg:squarederror.\n",
      "[10:38:49] WARNING: src/objective/regression_obj.cu:152: reg:linear is now deprecated in favor of reg:squarederror.\n",
      "CPU times: user 6min 32s, sys: 9.01 s, total: 6min 41s\n",
      "Wall time: 1min 53s\n"
     ]
    },
    {
     "data": {
      "text/html": [
       "<div>\n",
       "<style scoped>\n",
       "    .dataframe tbody tr th:only-of-type {\n",
       "        vertical-align: middle;\n",
       "    }\n",
       "\n",
       "    .dataframe tbody tr th {\n",
       "        vertical-align: top;\n",
       "    }\n",
       "\n",
       "    .dataframe thead th {\n",
       "        text-align: right;\n",
       "    }\n",
       "</style>\n",
       "<table border=\"1\" class=\"dataframe\">\n",
       "  <thead>\n",
       "    <tr style=\"text-align: right;\">\n",
       "      <th></th>\n",
       "      <th>train-rmse-mean</th>\n",
       "      <th>train-rmse-std</th>\n",
       "      <th>test-rmse-mean</th>\n",
       "      <th>test-rmse-std</th>\n",
       "    </tr>\n",
       "  </thead>\n",
       "  <tbody>\n",
       "    <tr>\n",
       "      <th>0</th>\n",
       "      <td>5256.546265</td>\n",
       "      <td>7.040890</td>\n",
       "      <td>5261.369873</td>\n",
       "      <td>25.180644</td>\n",
       "    </tr>\n",
       "    <tr>\n",
       "      <th>1</th>\n",
       "      <td>4219.910767</td>\n",
       "      <td>5.741965</td>\n",
       "      <td>4231.050903</td>\n",
       "      <td>23.948213</td>\n",
       "    </tr>\n",
       "    <tr>\n",
       "      <th>2</th>\n",
       "      <td>3484.153869</td>\n",
       "      <td>6.479026</td>\n",
       "      <td>3502.846435</td>\n",
       "      <td>21.498450</td>\n",
       "    </tr>\n",
       "    <tr>\n",
       "      <th>3</th>\n",
       "      <td>2964.453857</td>\n",
       "      <td>5.210944</td>\n",
       "      <td>2992.482361</td>\n",
       "      <td>21.708173</td>\n",
       "    </tr>\n",
       "    <tr>\n",
       "      <th>4</th>\n",
       "      <td>2608.748901</td>\n",
       "      <td>4.446368</td>\n",
       "      <td>2646.474548</td>\n",
       "      <td>21.379426</td>\n",
       "    </tr>\n",
       "    <tr>\n",
       "      <th>5</th>\n",
       "      <td>2365.012512</td>\n",
       "      <td>3.193691</td>\n",
       "      <td>2412.098877</td>\n",
       "      <td>19.121784</td>\n",
       "    </tr>\n",
       "    <tr>\n",
       "      <th>6</th>\n",
       "      <td>2206.502381</td>\n",
       "      <td>5.176749</td>\n",
       "      <td>2262.814209</td>\n",
       "      <td>21.341420</td>\n",
       "    </tr>\n",
       "    <tr>\n",
       "      <th>7</th>\n",
       "      <td>2091.330505</td>\n",
       "      <td>3.099281</td>\n",
       "      <td>2155.574279</td>\n",
       "      <td>18.671799</td>\n",
       "    </tr>\n",
       "    <tr>\n",
       "      <th>8</th>\n",
       "      <td>2013.789398</td>\n",
       "      <td>5.585297</td>\n",
       "      <td>2084.942810</td>\n",
       "      <td>15.741600</td>\n",
       "    </tr>\n",
       "    <tr>\n",
       "      <th>9</th>\n",
       "      <td>1961.156372</td>\n",
       "      <td>4.020519</td>\n",
       "      <td>2037.734924</td>\n",
       "      <td>13.405161</td>\n",
       "    </tr>\n",
       "  </tbody>\n",
       "</table>\n",
       "</div>"
      ],
      "text/plain": [
       "   train-rmse-mean  train-rmse-std  test-rmse-mean  test-rmse-std\n",
       "0      5256.546265        7.040890     5261.369873      25.180644\n",
       "1      4219.910767        5.741965     4231.050903      23.948213\n",
       "2      3484.153869        6.479026     3502.846435      21.498450\n",
       "3      2964.453857        5.210944     2992.482361      21.708173\n",
       "4      2608.748901        4.446368     2646.474548      21.379426\n",
       "5      2365.012512        3.193691     2412.098877      19.121784\n",
       "6      2206.502381        5.176749     2262.814209      21.341420\n",
       "7      2091.330505        3.099281     2155.574279      18.671799\n",
       "8      2013.789398        5.585297     2084.942810      15.741600\n",
       "9      1961.156372        4.020519     2037.734924      13.405161"
      ]
     },
     "execution_count": 194,
     "metadata": {},
     "output_type": "execute_result"
    }
   ],
   "source": [
    "%%time\n",
    "\n",
    "XGBoosterRegressor(parameters_XGBooster_3, features_xgb_new, target)"
   ]
  },
  {
   "cell_type": "markdown",
   "metadata": {},
   "source": [
    "Принимаю второй набор параметров лучшим в данном случае. Удаление признаков с усложнением параметров модели не дало прироста ни скорости, ни точности."
   ]
  },
  {
   "cell_type": "code",
   "execution_count": 195,
   "metadata": {},
   "outputs": [
    {
     "data": {
      "text/plain": [
       "{'objective': 'reg:linear',\n",
       " 'n_estimators': 75,\n",
       " 'max_depth': 7,\n",
       " 'eta': 0.25,\n",
       " 'eval_metric': 'rmse',\n",
       " 'seed': 13}"
      ]
     },
     "metadata": {},
     "output_type": "display_data"
    }
   ],
   "source": [
    "XGB_best_params = parameters_XGBooster_2\n",
    "display(XGB_best_params)"
   ]
  },
  {
   "cell_type": "markdown",
   "metadata": {},
   "source": [
    "# 3. Анализ моделей\n",
    "\n",
    "В данном пункте обучим модели по выбранным лучшим гиперпараметрам, замерим время обучения и предсказания, а также оценим RMSE."
   ]
  },
  {
   "cell_type": "markdown",
   "metadata": {},
   "source": [
    "## Изучение LightGBM"
   ]
  },
  {
   "cell_type": "code",
   "execution_count": 198,
   "metadata": {},
   "outputs": [
    {
     "data": {
      "text/plain": [
       "{'application': 'regression',\n",
       " 'boosting': 'gbdt',\n",
       " 'num_leaves': 60,\n",
       " 'max_depth': 10,\n",
       " 'feature_fraction': 0.8,\n",
       " 'learning_rate': 0.5,\n",
       " 'metric': 'rmse',\n",
       " 'random_state': 13}"
      ]
     },
     "execution_count": 198,
     "metadata": {},
     "output_type": "execute_result"
    }
   ],
   "source": [
    "LGBM_best_params"
   ]
  },
  {
   "cell_type": "code",
   "execution_count": 197,
   "metadata": {},
   "outputs": [],
   "source": [
    "# Делим датасет на обучающие и тестовые выборки\n",
    "X_train, X_test, y_train, y_test = train_test_split(features_lgb, target, test_size = 0.2, random_state = 13)\n",
    "    \n",
    "# Готовим датасет в формате LightGBM\n",
    "d_train = lgb.Dataset(X_train, label = y_train)\n",
    "d_test  = lgb.Dataset(X_test,  label = y_train, reference = d_train)"
   ]
  },
  {
   "cell_type": "code",
   "execution_count": 203,
   "metadata": {},
   "outputs": [
    {
     "name": "stdout",
     "output_type": "stream",
     "text": [
      "CPU times: user 2.58 s, sys: 42 ms, total: 2.62 s\n",
      "Wall time: 760 ms\n"
     ]
    }
   ],
   "source": [
    "%%time\n",
    "\n",
    "# Получим время обучения модели\n",
    "\n",
    "LGBM_regressor = lgb.train(LGBM_best_params, d_train)"
   ]
  },
  {
   "cell_type": "code",
   "execution_count": 202,
   "metadata": {
    "scrolled": true
   },
   "outputs": [
    {
     "name": "stdout",
     "output_type": "stream",
     "text": [
      "CPU times: user 688 ms, sys: 7.06 ms, total: 695 ms\n",
      "Wall time: 198 ms\n"
     ]
    }
   ],
   "source": [
    "%%time\n",
    "\n",
    "# Получим время предсказания\n",
    "\n",
    "y_pred = LGBM_regressor.predict(X_test)"
   ]
  },
  {
   "cell_type": "code",
   "execution_count": 204,
   "metadata": {},
   "outputs": [
    {
     "name": "stdout",
     "output_type": "stream",
     "text": [
      "1576.8111528176796\n"
     ]
    }
   ],
   "source": [
    "RMSE = (mean_squared_error(y_test, y_pred)) ** 0.5\n",
    "print(RMSE)"
   ]
  },
  {
   "cell_type": "markdown",
   "metadata": {},
   "source": [
    "Сохраним результаты в словарь, в который добавим результаты по прочим моделям."
   ]
  },
  {
   "cell_type": "code",
   "execution_count": 227,
   "metadata": {},
   "outputs": [],
   "source": [
    "result_index = ['Время кросс-валидации', \n",
    "                'RMSE', \n",
    "                'Время обучения', \n",
    "                'Время предсказания']\n",
    "result_dict = {\n",
    "    'LightGBM': ['3.09 s', '1576.81', '0.76 s', '0.198 s']\n",
    "}"
   ]
  },
  {
   "cell_type": "markdown",
   "metadata": {},
   "source": [
    "## Изучение Catboost"
   ]
  },
  {
   "cell_type": "code",
   "execution_count": 217,
   "metadata": {},
   "outputs": [
    {
     "data": {
      "text/plain": [
       "VehicleType         object\n",
       "RegistrationYear     int64\n",
       "Gearbox             object\n",
       "Power                int64\n",
       "Model               object\n",
       "Kilometer            int64\n",
       "FuelType            object\n",
       "Brand               object\n",
       "NotRepaired         object\n",
       "dtype: object"
      ]
     },
     "execution_count": 217,
     "metadata": {},
     "output_type": "execute_result"
    }
   ],
   "source": [
    "features_cat_1 = data_processed.drop(['Price'], axis = 1)"
   ]
  },
  {
   "cell_type": "code",
   "execution_count": 208,
   "metadata": {},
   "outputs": [
    {
     "data": {
      "text/plain": [
       "{'n_estimators': 75,\n",
       " 'max_depth': 8,\n",
       " 'learning_rate': 0.7,\n",
       " 'loss_function': 'RMSE',\n",
       " 'random_seed': 13}"
      ]
     },
     "execution_count": 208,
     "metadata": {},
     "output_type": "execute_result"
    }
   ],
   "source": [
    "Catboost_best_params"
   ]
  },
  {
   "cell_type": "code",
   "execution_count": 219,
   "metadata": {},
   "outputs": [],
   "source": [
    "X_train, X_test, y_train, y_test = train_test_split(features_cat_1, target, test_size = 0.2, random_state = 13)\n",
    "\n",
    "categorial_features = categorial_features_finder(features_cat_1)\n",
    "    \n",
    "train_pool = Pool(X_train, label = y_train, cat_features = categorial_features)\n",
    "test_pool  = Pool(X_test,  label = y_test,  cat_features = categorial_features)\n",
    "\n",
    "Catboost_model = CatBoostRegressor( random_seed   = 13,\n",
    "                                    n_estimators  = 75,\n",
    "                                    learning_rate = 0.7,\n",
    "                                    max_depth     = 8,\n",
    "                                    loss_function = 'RMSE',\n",
    "                                    verbose       = 5)"
   ]
  },
  {
   "cell_type": "code",
   "execution_count": 222,
   "metadata": {},
   "outputs": [
    {
     "name": "stdout",
     "output_type": "stream",
     "text": [
      "0:\tlearn: 2771.2701167\ttest: 2771.1869359\tbest: 2771.1869359 (0)\ttotal: 84ms\tremaining: 6.22s\n",
      "5:\tlearn: 1907.0149147\ttest: 1897.6598946\tbest: 1897.6598946 (5)\ttotal: 346ms\tremaining: 3.97s\n",
      "10:\tlearn: 1805.7099173\ttest: 1802.1892104\tbest: 1802.1892104 (10)\ttotal: 573ms\tremaining: 3.33s\n",
      "15:\tlearn: 1755.6591143\ttest: 1757.2013725\tbest: 1757.2013725 (15)\ttotal: 850ms\tremaining: 3.13s\n",
      "20:\tlearn: 1722.4212349\ttest: 1727.8607729\tbest: 1727.8607729 (20)\ttotal: 1.08s\tremaining: 2.77s\n",
      "25:\tlearn: 1693.9589267\ttest: 1706.2245846\tbest: 1706.2245846 (25)\ttotal: 1.44s\tremaining: 2.71s\n",
      "30:\tlearn: 1665.9888203\ttest: 1681.2677110\tbest: 1681.2677110 (30)\ttotal: 1.73s\tremaining: 2.45s\n",
      "35:\tlearn: 1651.1821588\ttest: 1672.5268674\tbest: 1672.5268674 (35)\ttotal: 1.97s\tremaining: 2.13s\n",
      "40:\tlearn: 1637.4414381\ttest: 1665.9899992\tbest: 1665.9899992 (40)\ttotal: 2.19s\tremaining: 1.82s\n",
      "45:\tlearn: 1621.0733106\ttest: 1656.6872184\tbest: 1656.6872184 (45)\ttotal: 2.44s\tremaining: 1.54s\n",
      "50:\tlearn: 1609.3389343\ttest: 1650.5372679\tbest: 1650.5372679 (50)\ttotal: 2.7s\tremaining: 1.27s\n",
      "55:\tlearn: 1596.8581185\ttest: 1642.9125015\tbest: 1642.9125015 (55)\ttotal: 2.98s\tremaining: 1.01s\n",
      "60:\tlearn: 1587.4677628\ttest: 1639.2156400\tbest: 1639.1718315 (59)\ttotal: 3.22s\tremaining: 739ms\n",
      "65:\tlearn: 1579.7616732\ttest: 1637.8574723\tbest: 1637.8574723 (65)\ttotal: 3.44s\tremaining: 469ms\n",
      "70:\tlearn: 1571.8881871\ttest: 1633.5605358\tbest: 1633.5605358 (70)\ttotal: 3.72s\tremaining: 210ms\n",
      "74:\tlearn: 1564.5386107\ttest: 1630.6943278\tbest: 1630.6943278 (74)\ttotal: 3.92s\tremaining: 0us\n",
      "\n",
      "bestTest = 1630.694328\n",
      "bestIteration = 74\n",
      "\n",
      "CPU times: user 11.4 s, sys: 821 ms, total: 12.2 s\n",
      "Wall time: 4.16 s\n"
     ]
    },
    {
     "data": {
      "text/plain": [
       "<catboost.core.CatBoostRegressor at 0x1a2bfc9390>"
      ]
     },
     "execution_count": 222,
     "metadata": {},
     "output_type": "execute_result"
    }
   ],
   "source": [
    "%%time \n",
    "\n",
    "Catboost_model.fit(train_pool, eval_set = test_pool)"
   ]
  },
  {
   "cell_type": "code",
   "execution_count": 223,
   "metadata": {},
   "outputs": [
    {
     "name": "stdout",
     "output_type": "stream",
     "text": [
      "CPU times: user 24.6 ms, sys: 2.67 ms, total: 27.3 ms\n",
      "Wall time: 15.7 ms\n"
     ]
    }
   ],
   "source": [
    "%%time\n",
    "\n",
    "y_pred = Catboost_model.predict(test_pool)"
   ]
  },
  {
   "cell_type": "code",
   "execution_count": 224,
   "metadata": {},
   "outputs": [
    {
     "name": "stdout",
     "output_type": "stream",
     "text": [
      "1630.6943277947605\n"
     ]
    }
   ],
   "source": [
    "RMSE = (mean_squared_error(y_test, y_pred)) ** 0.5\n",
    "print(RMSE)"
   ]
  },
  {
   "cell_type": "code",
   "execution_count": 232,
   "metadata": {},
   "outputs": [
    {
     "data": {
      "text/plain": [
       "['Время кросс-валидации', 'RMSE', 'Время обучения', 'Время предсказания']"
      ]
     },
     "metadata": {},
     "output_type": "display_data"
    },
    {
     "data": {
      "text/plain": [
       "{'LightGBM': ['3.09 s', '1576.81', '0.76 s', '0.198 s'],\n",
       " 'Catboost': ['18 s', '1630.69', '4.16 s', '0.016 s']}"
      ]
     },
     "metadata": {},
     "output_type": "display_data"
    }
   ],
   "source": [
    "# Добавим результаты в словарь\n",
    "\n",
    "result_dict['Catboost'] = ['18 s', '1630.69', '4.16 s', '0.016 s']\n",
    "display(result_index)\n",
    "display(result_dict)"
   ]
  },
  {
   "cell_type": "markdown",
   "metadata": {},
   "source": [
    "## Изучение XGBoost"
   ]
  },
  {
   "cell_type": "code",
   "execution_count": 236,
   "metadata": {},
   "outputs": [
    {
     "data": {
      "text/plain": [
       "{'objective': 'reg:linear',\n",
       " 'n_estimators': 75,\n",
       " 'max_depth': 7,\n",
       " 'eta': 0.25,\n",
       " 'eval_metric': 'rmse',\n",
       " 'seed': 13}"
      ]
     },
     "execution_count": 236,
     "metadata": {},
     "output_type": "execute_result"
    }
   ],
   "source": [
    "features_xgb_1 = data_processed.drop(['Price'], axis = 1)\n",
    "XGB_best_params"
   ]
  },
  {
   "cell_type": "code",
   "execution_count": 237,
   "metadata": {},
   "outputs": [],
   "source": [
    "features_new = pd.get_dummies(features_xgb_1, drop_first = True)\n",
    "    \n",
    "X_train, X_test, y_train, y_test = train_test_split(features_new, target, test_size = 0.2, random_state = 13)\n",
    "\n",
    "d_train = xgb.DMatrix(X_train, label = y_train)\n",
    "d_test  = xgb.DMatrix(X_test)"
   ]
  },
  {
   "cell_type": "code",
   "execution_count": 239,
   "metadata": {},
   "outputs": [
    {
     "name": "stdout",
     "output_type": "stream",
     "text": [
      "[11:23:54] WARNING: src/objective/regression_obj.cu:152: reg:linear is now deprecated in favor of reg:squarederror.\n",
      "CPU times: user 1min 25s, sys: 490 ms, total: 1min 26s\n",
      "Wall time: 22.4 s\n"
     ]
    }
   ],
   "source": [
    "%%time\n",
    "\n",
    "XGB_model = xgb.train(XGB_best_params, d_train)"
   ]
  },
  {
   "cell_type": "code",
   "execution_count": 240,
   "metadata": {},
   "outputs": [
    {
     "name": "stdout",
     "output_type": "stream",
     "text": [
      "CPU times: user 555 ms, sys: 2.93 ms, total: 558 ms\n",
      "Wall time: 161 ms\n"
     ]
    }
   ],
   "source": [
    "%%time\n",
    "\n",
    "y_pred = XGB_model.predict(d_test)"
   ]
  },
  {
   "cell_type": "code",
   "execution_count": 241,
   "metadata": {},
   "outputs": [
    {
     "name": "stdout",
     "output_type": "stream",
     "text": [
      "1869.5097628405604\n"
     ]
    }
   ],
   "source": [
    "RMSE = (mean_squared_error(y_test, y_pred)) ** 0.5\n",
    "print(RMSE)"
   ]
  },
  {
   "cell_type": "code",
   "execution_count": 242,
   "metadata": {},
   "outputs": [
    {
     "data": {
      "text/plain": [
       "['Время кросс-валидации', 'RMSE', 'Время обучения', 'Время предсказания']"
      ]
     },
     "metadata": {},
     "output_type": "display_data"
    },
    {
     "data": {
      "text/plain": [
       "{'LightGBM': ['3.09 s', '1576.81', '0.76 s', '0.198 s'],\n",
       " 'Catboost': ['18 s', '1630.69', '4.16 s', '0.016 s'],\n",
       " 'XGBoost': ['89 s', '1869.51', '22.4 s', '0.161 s']}"
      ]
     },
     "metadata": {},
     "output_type": "display_data"
    }
   ],
   "source": [
    "# Добавим результаты в словарь\n",
    "\n",
    "result_dict['XGBoost'] = ['89 s', '1869.51', '22.4 s', '0.161 s']\n",
    "display(result_index)\n",
    "display(result_dict)"
   ]
  },
  {
   "cell_type": "markdown",
   "metadata": {},
   "source": [
    "## Вывод"
   ]
  },
  {
   "cell_type": "markdown",
   "metadata": {},
   "source": [
    "Представим результат изучения моделей в виде таблицы."
   ]
  },
  {
   "cell_type": "code",
   "execution_count": 244,
   "metadata": {},
   "outputs": [
    {
     "data": {
      "text/html": [
       "<div>\n",
       "<style scoped>\n",
       "    .dataframe tbody tr th:only-of-type {\n",
       "        vertical-align: middle;\n",
       "    }\n",
       "\n",
       "    .dataframe tbody tr th {\n",
       "        vertical-align: top;\n",
       "    }\n",
       "\n",
       "    .dataframe thead th {\n",
       "        text-align: right;\n",
       "    }\n",
       "</style>\n",
       "<table border=\"1\" class=\"dataframe\">\n",
       "  <thead>\n",
       "    <tr style=\"text-align: right;\">\n",
       "      <th></th>\n",
       "      <th>LightGBM</th>\n",
       "      <th>Catboost</th>\n",
       "      <th>XGBoost</th>\n",
       "    </tr>\n",
       "  </thead>\n",
       "  <tbody>\n",
       "    <tr>\n",
       "      <th>Время кросс-валидации</th>\n",
       "      <td>3.09 s</td>\n",
       "      <td>18 s</td>\n",
       "      <td>89 s</td>\n",
       "    </tr>\n",
       "    <tr>\n",
       "      <th>RMSE</th>\n",
       "      <td>1576.81</td>\n",
       "      <td>1630.69</td>\n",
       "      <td>1869.51</td>\n",
       "    </tr>\n",
       "    <tr>\n",
       "      <th>Время обучения</th>\n",
       "      <td>0.76 s</td>\n",
       "      <td>4.16 s</td>\n",
       "      <td>22.4 s</td>\n",
       "    </tr>\n",
       "    <tr>\n",
       "      <th>Время предсказания</th>\n",
       "      <td>0.198 s</td>\n",
       "      <td>0.016 s</td>\n",
       "      <td>0.161 s</td>\n",
       "    </tr>\n",
       "  </tbody>\n",
       "</table>\n",
       "</div>"
      ],
      "text/plain": [
       "                      LightGBM Catboost  XGBoost\n",
       "Время кросс-валидации   3.09 s     18 s     89 s\n",
       "RMSE                   1576.81  1630.69  1869.51\n",
       "Время обучения          0.76 s   4.16 s   22.4 s\n",
       "Время предсказания     0.198 s  0.016 s  0.161 s"
      ]
     },
     "metadata": {},
     "output_type": "display_data"
    }
   ],
   "source": [
    "results = pd.DataFrame(result_dict, index = result_index)\n",
    "display(results)"
   ]
  },
  {
   "cell_type": "markdown",
   "metadata": {},
   "source": [
    "Следует вывод, что для данной задачи, в которой критериями оптимальности являются время обучения, время предсказания и качество предсказания, **наиболее подходящей является модель LightGBM** как наиболее скоростная и точная. "
   ]
  }
 ],
 "metadata": {
  "kernelspec": {
   "display_name": "Python 3",
   "language": "python",
   "name": "python3"
  },
  "language_info": {
   "codemirror_mode": {
    "name": "ipython",
    "version": 3
   },
   "file_extension": ".py",
   "mimetype": "text/x-python",
   "name": "python",
   "nbconvert_exporter": "python",
   "pygments_lexer": "ipython3",
   "version": "3.7.6"
  }
 },
 "nbformat": 4,
 "nbformat_minor": 2
}
